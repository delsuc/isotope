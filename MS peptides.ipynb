{
 "cells": [
  {
   "cell_type": "markdown",
   "metadata": {},
   "source": [
    "## Example file for the isotopes module\n",
    "This notebook presents how the isotopes.py module can be used to predict MS spectra of peptides, including some Post Translationnal Modifications"
   ]
  },
  {
   "cell_type": "code",
   "execution_count": 2,
   "metadata": {
    "ExecuteTime": {
     "end_time": "2021-07-31T07:54:41.950892Z",
     "start_time": "2021-07-31T07:54:41.868381Z"
    }
   },
   "outputs": [],
   "source": [
    "%matplotlib inline\n",
    "from isotope import isotopes as iso"
   ]
  },
  {
   "cell_type": "markdown",
   "metadata": {},
   "source": [
    "## peptides\n",
    "\n",
    "straight pirmary sequences using 1 letter code is interpreted, a few PTM are available, check `iso.parse_peptide?` for more information"
   ]
  },
  {
   "cell_type": "code",
   "execution_count": 3,
   "metadata": {
    "ExecuteTime": {
     "end_time": "2021-07-31T07:54:41.959774Z",
     "start_time": "2021-07-31T07:54:41.955176Z"
    }
   },
   "outputs": [],
   "source": [
    "KEL0 = \"KELCKAVSVSM\"\n",
    "KEL1 = \"K+ELCKAVSVSM\"  # + is for protonation\n",
    "KEL2 = \"KELCKAVS*VSM\"  # * is for phosphorylation"
   ]
  },
  {
   "cell_type": "code",
   "execution_count": 4,
   "metadata": {
    "ExecuteTime": {
     "end_time": "2021-07-31T07:54:41.968194Z",
     "start_time": "2021-07-31T07:54:41.963296Z"
    }
   },
   "outputs": [
    {
     "name": "stdout",
     "output_type": "stream",
     "text": [
      "\n",
      "    compute the formula of a peptide/protein given by one letter code\n",
      "    \n",
      "    formula = parse_peptide(\"ACDEY*GH\")     # e.g.\n",
      "    letter code is standard 1 letter code for amino-acids\n",
      "    \n",
      "    for xyz/abc fragmentation\n",
      "\n",
      "    - starts is either \n",
      "        - \"NH2\" (default) - for a regular peptide\n",
      "        - \"x\"  \"y\"  \"z\" - for MS fragments \n",
      "        - or any formula\n",
      "    - ends is either\n",
      "        - \"COOH\" (default) - for a regular peptide\n",
      "        - \"a\"  \"b\"  \"c\" - for MS fragments \n",
      "        -  or any formula\n",
      "    \n",
      "    if extended is True, will also interpret U: Seleno-Cysteine and O: Pyrolysine\n",
      "\n",
      "    codes for Post Translational Modifications (PTM)\n",
      "\n",
      "    * phosphorylation\n",
      "    a acetylation\n",
      "    n amidation\n",
      "    d deamidation\n",
      "    h hydroxylation\n",
      "    o oxydation\n",
      "    + protonation\n",
      "    - deprotonation\n",
      "    m methylation\n",
      "    b beta-mercaptoethanol adduct\n",
      "    \n",
      "    Remarks\n",
      "    - the prgm does not verify the chemical coherence of the PTM !\n",
      "    - the PTM adds always the neutral form,\n",
      "    - you can have several PTM on the same residue.\n",
      "      for instance, n+ is an NH3+ amidation; Kmm is a dimethylated lysine, ACDEFGH+++ is the 3+ charged peptide\n",
      "    \n",
      "    \n"
     ]
    }
   ],
   "source": [
    "print(iso.parse_peptide.__doc__)"
   ]
  },
  {
   "cell_type": "code",
   "execution_count": 5,
   "metadata": {
    "ExecuteTime": {
     "end_time": "2021-07-31T07:54:41.974688Z",
     "start_time": "2021-07-31T07:54:41.970336Z"
    }
   },
   "outputs": [],
   "source": [
    "seq = \"KELCKAVSVSM\"\n",
    "form = iso.parse_peptide(seq)"
   ]
  },
  {
   "cell_type": "markdown",
   "metadata": {},
   "source": [
    "`iso.parse_peptide(seq)` returns a `Formula`, an object handling generic chemical formula.\n",
    "\n",
    "It has a methods for computing masses and isotopic distribution, as well as printing itself :"
   ]
  },
  {
   "cell_type": "code",
   "execution_count": 6,
   "metadata": {
    "ExecuteTime": {
     "end_time": "2021-07-31T07:54:41.979445Z",
     "start_time": "2021-07-31T07:54:41.976341Z"
    }
   },
   "outputs": [
    {
     "name": "stdout",
     "output_type": "stream",
     "text": [
      "C_50 H_91 N_13 O_16 S_2\n"
     ]
    }
   ],
   "source": [
    "print (form)"
   ]
  },
  {
   "cell_type": "markdown",
   "metadata": {},
   "source": [
    "Average and monoisotopic peptide masses\n",
    "\n",
    "assuming no charge"
   ]
  },
  {
   "cell_type": "code",
   "execution_count": 7,
   "metadata": {
    "ExecuteTime": {
     "end_time": "2021-07-31T07:54:41.984421Z",
     "start_time": "2021-07-31T07:54:41.980986Z"
    }
   },
   "outputs": [
    {
     "name": "stdout",
     "output_type": "stream",
     "text": [
      "1194.4665985002323 1193.61481589373\n"
     ]
    }
   ],
   "source": [
    "print (form.average(), form.monoisotop())"
   ]
  },
  {
   "cell_type": "markdown",
   "metadata": {},
   "source": [
    "Let's compute $m/z$ for varying level of protonation"
   ]
  },
  {
   "cell_type": "code",
   "execution_count": 8,
   "metadata": {
    "ExecuteTime": {
     "end_time": "2021-07-31T07:54:41.990354Z",
     "start_time": "2021-07-31T07:54:41.985830Z"
    }
   },
   "outputs": [
    {
     "name": "stdout",
     "output_type": "stream",
     "text": [
      "Z=1  M/Z = 1194.622641\n",
      "Z=2  M/Z = 597.815233\n",
      "Z=3  M/Z = 398.879430\n",
      "Z=4  M/Z = 299.411529\n"
     ]
    }
   ],
   "source": [
    "m = form.monoisotop()\n",
    "mH = iso.parse_formula('H').monoisotop()           # mass of one ¹H\n",
    "for n in range(1,5):\n",
    "    print( \"Z=%d  M/Z = %f\"%(n,(m + n*mH)/n))"
   ]
  },
  {
   "cell_type": "markdown",
   "metadata": {},
   "source": [
    "`Formula` can be created easily with `iso.parse_formula()`\n",
    "\n",
    "It is easy to a groupment to a given formula using `addformula()`"
   ]
  },
  {
   "cell_type": "code",
   "execution_count": 9,
   "metadata": {
    "ExecuteTime": {
     "end_time": "2021-07-31T07:54:41.996351Z",
     "start_time": "2021-07-31T07:54:41.992444Z"
    }
   },
   "outputs": [
    {
     "name": "stdout",
     "output_type": "stream",
     "text": [
      "Z=1  M/Z = 1273.573321\n",
      "Z=2  M/Z = 637.286661\n",
      "Z=3  M/Z = 425.191107\n"
     ]
    }
   ],
   "source": [
    "iso.addformula(form, iso.parse_formula(\"PO3\"))\n",
    "m = form.monoisotop()\n",
    "for i in range(1,4):\n",
    "    print (\"Z=%d  M/Z = %f\"%(i,(m+i)/i))"
   ]
  },
  {
   "cell_type": "markdown",
   "metadata": {},
   "source": [
    "But the operation is wrong, because adding a phosphate requires removing a proton,\n",
    "\n",
    "one way to do it :"
   ]
  },
  {
   "cell_type": "code",
   "execution_count": 10,
   "metadata": {
    "ExecuteTime": {
     "end_time": "2021-07-31T07:54:42.003646Z",
     "start_time": "2021-07-31T07:54:41.998207Z"
    }
   },
   "outputs": [
    {
     "name": "stdout",
     "output_type": "stream",
     "text": [
      "C_50 H_92 N_13 O_19 P S_2\n",
      "Z=1  M/Z = 1274.581146\n",
      "Z=2  M/Z = 637.790573\n",
      "Z=3  M/Z = 425.527049\n"
     ]
    }
   ],
   "source": [
    "seq = \"KELCKAVS*VSM\"\n",
    "form = iso.parse_peptide(seq)\n",
    "m = form.monoisotop()\n",
    "print(form)\n",
    "for i in range(1,4):\n",
    "    print (\"Z=%d  M/Z = %f\"%(i,(m+i)/i))"
   ]
  },
  {
   "cell_type": "markdown",
   "metadata": {},
   "source": [
    "Another, more convoluted way :"
   ]
  },
  {
   "cell_type": "code",
   "execution_count": 11,
   "metadata": {
    "ExecuteTime": {
     "end_time": "2021-07-31T07:54:42.011162Z",
     "start_time": "2021-07-31T07:54:42.005415Z"
    }
   },
   "outputs": [
    {
     "name": "stdout",
     "output_type": "stream",
     "text": [
      "Z=1  M/Z = 1272.565496\n",
      "Z=2  M/Z = 636.782748\n",
      "Z=3  M/Z = 424.855165\n",
      "Z=4  M/Z = 318.891374\n"
     ]
    }
   ],
   "source": [
    "seq = \"KELCKAVSVSM\"\n",
    "form = iso.parse_peptide(seq)\n",
    "# fist add a full phosphate molecule\n",
    "iso.addformula(form, iso.parse_formula(\"HPO4\"))\n",
    "# removing a groupement (here water group)\n",
    "iso.rmformula(form, iso.parse_formula(\"H2O\"))\n",
    "m = form.monoisotop()\n",
    "for i in range(1,5):\n",
    "    print( \"Z=%d  M/Z = %f\"%(i,(m+i)/i))\n",
    "    "
   ]
  },
  {
   "cell_type": "markdown",
   "metadata": {},
   "source": [
    "You can compute isotopic distribution, and even draw them"
   ]
  },
  {
   "cell_type": "code",
   "execution_count": 12,
   "metadata": {
    "ExecuteTime": {
     "end_time": "2021-07-31T07:54:42.427806Z",
     "start_time": "2021-07-31T07:54:42.013006Z"
    }
   },
   "outputs": [
    {
     "name": "stdout",
     "output_type": "stream",
     "text": [
      "1271.565496  100.0000000000\n",
      "1272.568326  62.1659202331\n",
      "1273.568208  31.8682498442\n",
      "1274.569089  11.7329790414\n",
      "1275.569679  3.6072198284\n",
      "1276.570512  0.9360617347\n",
      "1277.571490  0.2114745485\n",
      "1278.572655  0.0422176168\n",
      "1279.573951  0.0075497937\n",
      "1280.575368  0.0012228117\n",
      "1281.576835  0.0001802931\n",
      "\n"
     ]
    },
    {
     "data": {
      "image/png": "[encoded data removed]",
      "text/plain": [
       "<Figure size 432x288 with 1 Axes>"
      ]
     },
     "metadata": {
      "needs_background": "light"
     },
     "output_type": "display_data"
    }
   ],
   "source": [
    "D = form.distribution()\n",
    "print (D)\n",
    "D.draw()"
   ]
  },
  {
   "cell_type": "code",
   "execution_count": 13,
   "metadata": {
    "ExecuteTime": {
     "end_time": "2021-07-31T07:54:42.463849Z",
     "start_time": "2021-07-31T07:54:42.430319Z"
    }
   },
   "outputs": [
    {
     "name": "stdout",
     "output_type": "stream",
     "text": [
      "A 89.04767846841\n",
      "C 121.01974946841\n",
      "D 133.03750770753\n",
      "E 147.05315777167\n",
      "F 165.07897859669\n",
      "G 75.03202840427\n",
      "H 155.06947654215\n",
      "I 131.09462866083\n",
      "K 146.1055276977\n",
      "L 131.09462866083\n",
      "M 149.05104959669\n",
      "N 132.05349212484\n",
      "P 115.06332853255\n",
      "Q 146.06914218898\n",
      "R 174.1116757073\n",
      "S 105.04259308797\n",
      "T 119.05824315211\n",
      "V 117.07897859669\n",
      "Y 181.07389321625\n",
      "W 204.08987763356\n"
     ]
    }
   ],
   "source": [
    "AA = \"ACDEFGHIKLMNPQRSTVYW\"\n",
    "len(AA)\n",
    "for a in AA:\n",
    "    print (a,round(iso.parse_peptide(a).monoisotop(),11))"
   ]
  },
  {
   "cell_type": "code",
   "execution_count": null,
   "metadata": {},
   "outputs": [],
   "source": []
  }
 ],
 "metadata": {
  "kernelspec": {
   "display_name": "Python 3",
   "language": "python",
   "name": "python3"
  },
  "language_info": {
   "codemirror_mode": {
    "name": "ipython",
    "version": 3
   },
   "file_extension": ".py",
   "mimetype": "text/x-python",
   "name": "python",
   "nbconvert_exporter": "python",
   "pygments_lexer": "ipython3",
   "version": "3.8.5"
  },
  "toc": {
   "base_numbering": 1,
   "nav_menu": {},
   "number_sections": true,
   "sideBar": true,
   "skip_h1_title": true,
   "title_cell": "Table of Contents",
   "title_sidebar": "Contents",
   "toc_cell": true,
   "toc_position": {},
   "toc_section_display": true,
   "toc_window_display": false
  },
  "varInspector": {
   "cols": {
    "lenName": 16,
    "lenType": 16,
    "lenVar": 40
   },
   "kernels_config": {
    "python": {
     "delete_cmd_postfix": "",
     "delete_cmd_prefix": "del ",
     "library": "var_list.py",
     "varRefreshCmd": "print(var_dic_list())"
    },
    "r": {
     "delete_cmd_postfix": ") ",
     "delete_cmd_prefix": "rm(",
     "library": "var_list.r",
     "varRefreshCmd": "cat(var_dic_list()) "
    }
   },
   "types_to_exclude": [
    "module",
    "function",
    "builtin_function_or_method",
    "instance",
    "_Feature"
   ],
   "window_display": false
  }
 },
 "nbformat": 4,
 "nbformat_minor": 1
}
