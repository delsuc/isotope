{
 "cells": [
  {
   "cell_type": "markdown",
   "metadata": {},
   "source": [
    "## Example file for the isotopes module\n",
    "This notebook presents how the isotopes.py module can be used to predict MS spectra of peptides, including some Post Translationnal Modifications"
   ]
  },
  {
   "cell_type": "code",
   "execution_count": 1,
   "metadata": {
    "collapsed": false
   },
   "outputs": [],
   "source": [
    "%matplotlib inline\n",
    "import isotopes as iso"
   ]
  },
  {
   "cell_type": "markdown",
   "metadata": {},
   "source": [
    "## peptides\n",
    "\n",
    "straight pirmary sequences using 1 letter code is interpreted, a few PTM are available, check `iso.parse_peptide?` for more information"
   ]
  },
  {
   "cell_type": "markdown",
   "metadata": {},
   "source": [
    "KEL0 = \"KELCKAVSVSM\"\n",
    "KEL1 = \"K+ELCKAVSVSM\"  # + is for protonation\n",
    "KEL2 = \"KELCKAVS*VSM\"  # * is for phosphorylation"
   ]
  },
  {
   "cell_type": "code",
   "execution_count": 2,
   "metadata": {
    "collapsed": false
   },
   "outputs": [],
   "source": [
    "iso.parse_peptide?"
   ]
  },
  {
   "cell_type": "code",
   "execution_count": 6,
   "metadata": {
    "collapsed": false
   },
   "outputs": [],
   "source": [
    "seq = \"KELCKAVSVSI\"\n",
    "form = iso.parse_peptide(seq)"
   ]
  },
  {
   "cell_type": "markdown",
   "metadata": {},
   "source": [
    "`iso.parse_peptide(seq)` returns a `Formula`, an object handling generic chemical formula.\n",
    "\n",
    "It has a methods for computing masses and isotopic distribution, as well as printing itself :"
   ]
  },
  {
   "cell_type": "code",
   "execution_count": 7,
   "metadata": {
    "collapsed": false
   },
   "outputs": [
    {
     "data": {
      "text/plain": [
       "C_51 H_93 N_13 O_16 S"
      ]
     },
     "execution_count": 7,
     "metadata": {},
     "output_type": "execute_result"
    }
   ],
   "source": [
    "form"
   ]
  },
  {
   "cell_type": "markdown",
   "metadata": {},
   "source": [
    "Average and monoisotopic peptide masses\n",
    "\n",
    "assuming no charge"
   ]
  },
  {
   "cell_type": "code",
   "execution_count": 8,
   "metadata": {
    "collapsed": false
   },
   "outputs": [
    {
     "name": "stdout",
     "output_type": "stream",
     "text": [
      "1176.42842867 1175.65839496\n"
     ]
    }
   ],
   "source": [
    "print form.average(), form.monoisotop()"
   ]
  },
  {
   "cell_type": "markdown",
   "metadata": {},
   "source": [
    "Let's compute $m/z$ for varying level of protonation"
   ]
  },
  {
   "cell_type": "code",
   "execution_count": 6,
   "metadata": {
    "collapsed": false
   },
   "outputs": [
    {
     "name": "stdout",
     "output_type": "stream",
     "text": [
      "Z=1  M/Z = 1194.614816\n",
      "Z=2  M/Z = 597.807408\n",
      "Z=3  M/Z = 398.871605\n",
      "Z=4  M/Z = 299.403704\n"
     ]
    }
   ],
   "source": [
    "seq = \"KELCKAVSVSM\"\n",
    "form = iso.parse_peptide(seq)\n",
    "m = form.monoisotop()\n",
    "for i in range(1,5):\n",
    "    print \"Z=%d  M/Z = %f\"%(i,(m+i)/i)"
   ]
  },
  {
   "cell_type": "markdown",
   "metadata": {},
   "source": [
    "`Formula` can be created easily with `iso.parse_formula()`\n",
    "\n",
    "It is easy to a groupment to a given formula using `addformula()`"
   ]
  },
  {
   "cell_type": "code",
   "execution_count": 7,
   "metadata": {
    "collapsed": false
   },
   "outputs": [
    {
     "name": "stdout",
     "output_type": "stream",
     "text": [
      "Z=1  M/Z = 1273.573321\n",
      "Z=2  M/Z = 637.286661\n",
      "Z=3  M/Z = 425.191107\n"
     ]
    }
   ],
   "source": [
    "seq = \"KELCKAVSVSM\"\n",
    "form = iso.parse_peptide(seq)\n",
    "iso.addformula(form, iso.parse_formula(\"PO3\"))\n",
    "m = form.monoisotop()\n",
    "for i in range(1,4):\n",
    "    print \"Z=%d  M/Z = %f\"%(i,(m+i)/i)"
   ]
  },
  {
   "cell_type": "markdown",
   "metadata": {},
   "source": [
    "But the operation is wrong, because adding a phosphate requires removing a proton,\n",
    "\n",
    "one way to do it :"
   ]
  },
  {
   "cell_type": "code",
   "execution_count": 9,
   "metadata": {
    "collapsed": false
   },
   "outputs": [
    {
     "name": "stdout",
     "output_type": "stream",
     "text": [
      "Z=1  M/Z = 1272.565496\n",
      "Z=2  M/Z = 636.782748\n",
      "Z=3  M/Z = 424.855165\n"
     ]
    }
   ],
   "source": [
    "seq = \"KELCKAVS*VSM\"\n",
    "form = iso.parse_peptide(seq)\n",
    "m = form.monoisotop()\n",
    "for i in range(1,4):\n",
    "    print \"Z=%d  M/Z = %f\"%(i,(m+i)/i)"
   ]
  },
  {
   "cell_type": "markdown",
   "metadata": {},
   "source": [
    "Another, more convoluted way :"
   ]
  },
  {
   "cell_type": "code",
   "execution_count": 9,
   "metadata": {
    "collapsed": false
   },
   "outputs": [
    {
     "name": "stdout",
     "output_type": "stream",
     "text": [
      "Z=1  M/Z = 1272.565496\n",
      "Z=2  M/Z = 636.782748\n",
      "Z=3  M/Z = 424.855165\n",
      "Z=4  M/Z = 318.891374\n"
     ]
    }
   ],
   "source": [
    "seq = \"KELCKAVSVSM\"\n",
    "form = iso.parse_peptide(seq)\n",
    "# fist add a full phosphate molecule\n",
    "iso.addformula(form, iso.parse_formula(\"HPO4\"))\n",
    "# removing a groupement (here water group)\n",
    "iso.rmformula(form, iso.parse_formula(\"H2O\"))\n",
    "m = form.monoisotop()\n",
    "for i in range(1,5):\n",
    "    print \"Z=%d  M/Z = %f\"%(i,(m+i)/i)\n",
    "    "
   ]
  },
  {
   "cell_type": "markdown",
   "metadata": {},
   "source": [
    "You can compute isotopic distribution, and even draw them"
   ]
  },
  {
   "cell_type": "code",
   "execution_count": 10,
   "metadata": {
    "collapsed": false
   },
   "outputs": [
    {
     "name": "stdout",
     "output_type": "stream",
     "text": [
      "1271.565496  100.0000000000\n",
      "1272.568326  62.1659202331\n",
      "1273.568208  31.8682498442\n",
      "1274.570865  11.7540338893\n",
      "1275.573300  3.5990876805\n",
      "1276.576674  0.9288049701\n",
      "1277.580540  0.2076574523\n",
      "1278.584857  0.0408578759\n",
      "1279.589453  0.0071698298\n",
      "1280.594258  0.0011355666\n",
      "1281.599280  0.0001629043\n",
      "\n"
     ]
    },
    {
     "data": {
      "image/png": "[encoded data removed]",
      "text/plain": [
       "<matplotlib.figure.Figure at 0x1061ccb90>"
      ]
     },
     "metadata": {},
     "output_type": "display_data"
    }
   ],
   "source": [
    "D = form.distribution()\n",
    "print D\n",
    "D.draw()"
   ]
  },
  {
   "cell_type": "code",
   "execution_count": 18,
   "metadata": {
    "collapsed": false
   },
   "outputs": [
    {
     "name": "stdout",
     "output_type": "stream",
     "text": [
      " A 89.0476784684\n",
      "C 121.019749468\n",
      "D 133.037507708\n",
      "E 147.053157772\n",
      "F 165.078978597\n",
      "G 75.0320284043\n",
      "H 155.069476542\n",
      "I 131.094628661\n",
      "K 146.105527698\n",
      "L 131.094628661\n",
      "M 149.051049597\n",
      "N 132.053492125\n",
      "P 115.063328533\n",
      "Q 146.069142189\n",
      "R 174.111675707\n",
      "S 105.042593088\n",
      "T 119.058243152\n",
      "V 117.078978597\n",
      "Y 181.073893216\n",
      "W 204.089877634\n"
     ]
    }
   ],
   "source": [
    "AA = \"ACDEFGHIKLMNPQRSTVYW\"\n",
    "len(AA)\n",
    "for a in AA:\n",
    "    print a,iso.parse_peptide(a).monoisotop()"
   ]
  },
  {
   "cell_type": "code",
   "execution_count": 14,
   "metadata": {
    "collapsed": false
   },
   "outputs": [],
   "source": [
    "a = iso.parse_peptide(\"A\")"
   ]
  },
  {
   "cell_type": "code",
   "execution_count": 90,
   "metadata": {
    "collapsed": false
   },
   "outputs": [
    {
     "name": "stdout",
     "output_type": "stream",
     "text": [
      "0 1 [0]\n"
     ]
    },
    {
     "ename": "NameError",
     "evalue": "global name 'pl' is not defined",
     "output_type": "error",
     "traceback": [
      "\u001b[0;31m---------------------------------------------------------------------------\u001b[0m\n\u001b[0;31mNameError\u001b[0m                                 Traceback (most recent call last)",
      "\u001b[0;32m<ipython-input-90-75305321ad1d>\u001b[0m in \u001b[0;36m<module>\u001b[0;34m()\u001b[0m\n\u001b[1;32m     20\u001b[0m \u001b[0;34m\u001b[0m\u001b[0m\n\u001b[1;32m     21\u001b[0m \u001b[0;31m#print iso.parse_peptide(\"GTW\").monoisotop()\u001b[0m\u001b[0;34m\u001b[0m\u001b[0;34m\u001b[0m\u001b[0m\n\u001b[0;32m---> 22\u001b[0;31m \u001b[0mfindpep\u001b[0m\u001b[0;34m(\u001b[0m\u001b[0;36m60\u001b[0m\u001b[0;34m,\u001b[0m\u001b[0;36m100\u001b[0m\u001b[0;34m)\u001b[0m\u001b[0;34m\u001b[0m\u001b[0m\n\u001b[0m",
      "\u001b[0;32m<ipython-input-90-75305321ad1d>\u001b[0m in \u001b[0;36mfindpep\u001b[0;34m(mass, ppm)\u001b[0m\n\u001b[1;32m     13\u001b[0m     \u001b[0;32mprint\u001b[0m \u001b[0mNMin\u001b[0m\u001b[0;34m,\u001b[0m \u001b[0mNMax\u001b[0m\u001b[0;34m,\u001b[0m \u001b[0mpeplist\u001b[0m\u001b[0;34m\u001b[0m\u001b[0m\n\u001b[1;32m     14\u001b[0m     \u001b[0;32mfor\u001b[0m \u001b[0mN\u001b[0m \u001b[0;32min\u001b[0m \u001b[0mrange\u001b[0m\u001b[0;34m(\u001b[0m\u001b[0mNMax\u001b[0m\u001b[0;34m)\u001b[0m\u001b[0;34m:\u001b[0m  \u001b[0;31m# for all possible positions\u001b[0m\u001b[0;34m\u001b[0m\u001b[0m\n\u001b[0;32m---> 15\u001b[0;31m         \u001b[0mpepmass\u001b[0m \u001b[0;34m=\u001b[0m \u001b[0msum\u001b[0m\u001b[0;34m(\u001b[0m \u001b[0;34m[\u001b[0m \u001b[0mAA\u001b[0m\u001b[0;34m[\u001b[0m\u001b[0mp\u001b[0m\u001b[0;34m]\u001b[0m\u001b[0;34m[\u001b[0m\u001b[0;36m1\u001b[0m\u001b[0;34m]\u001b[0m \u001b[0;32mfor\u001b[0m \u001b[0mp\u001b[0m \u001b[0;32min\u001b[0m \u001b[0mpl\u001b[0m\u001b[0;34m]\u001b[0m \u001b[0;34m)\u001b[0m\u001b[0;34m\u001b[0m\u001b[0m\n\u001b[0m\u001b[1;32m     16\u001b[0m         \u001b[0;32mif\u001b[0m \u001b[0mpepmass\u001b[0m \u001b[0;34m>\u001b[0m \u001b[0mmass\u001b[0m\u001b[0;34m+\u001b[0m\u001b[0;36m1\u001b[0m\u001b[0;34m:\u001b[0m\u001b[0;34m\u001b[0m\u001b[0m\n\u001b[1;32m     17\u001b[0m             \u001b[0;32mbreak\u001b[0m\u001b[0;34m\u001b[0m\u001b[0m\n",
      "\u001b[0;31mNameError\u001b[0m: global name 'pl' is not defined"
     ]
    }
   ],
   "source": [
    "def findpep(mass, ppm=100.0):\n",
    "    mcbound = iso.parse_formula(\"CONH\").monoisotop()-iso.parse_formula(\"H2O\").monoisotop()\n",
    "    AA = [(a,iso.parse_peptide(a).monoisotop()-mcbound) for a in \"ACDEFGHIKLMNPQRSTVYW\"]\n",
    "    AA.sort(key=lambda x: x[1])\n",
    "    AA.insert(0,(' ',0))\n",
    "    Gm = AA[1][1]\n",
    "    Wm = AA[20][1]\n",
    "    #print Gm, Wm, AA\n",
    "    NMax = int(mass/Gm)  # maximum number of amino-acids\n",
    "    precis = ppm*mass/1E6\n",
    "    peplist = [0]*NMax\n",
    "    print NMin, NMax, peplist\n",
    "    for N in range(NMax):  # for all possible positions\n",
    "        pepmass = sum( [ AA[p][1] for p in pl] )\n",
    "        if pepmass > mass+1:\n",
    "            break\n",
    "        if abs(pepmass - mass) < precis:\n",
    "            print \"***\", peplist, pepmass\n",
    "        \n",
    "#print iso.parse_peptide(\"GTW\").monoisotop()\n",
    "findpep(60,100)"
   ]
  },
  {
   "cell_type": "code",
   "execution_count": 59,
   "metadata": {
    "collapsed": false
   },
   "outputs": [],
   "source": [
    "AA = [(a,iso.parse_peptide(a).monoisotop()) for a in \"ACDEFGHIKLMNPQRSTVYW\"]\n"
   ]
  },
  {
   "cell_type": "code",
   "execution_count": 60,
   "metadata": {
    "collapsed": false
   },
   "outputs": [],
   "source": [
    "AA.sort(key=lambda x: x[1])"
   ]
  },
  {
   "cell_type": "code",
   "execution_count": 61,
   "metadata": {
    "collapsed": false
   },
   "outputs": [
    {
     "data": {
      "text/plain": [
       "[(' ', 0),\n",
       " ('G', 75.03202840427),\n",
       " ('A', 89.04767846841),\n",
       " ('S', 105.04259308797),\n",
       " ('P', 115.06332853255),\n",
       " ('V', 117.07897859668999),\n",
       " ('T', 119.05824315211),\n",
       " ('C', 121.01974946841),\n",
       " ('I', 131.09462866083),\n",
       " ('L', 131.09462866083),\n",
       " ('N', 132.05349212484),\n",
       " ('D', 133.03750770753),\n",
       " ('Q', 146.06914218897998),\n",
       " ('K', 146.1055276977),\n",
       " ('E', 147.05315777167),\n",
       " ('M', 149.05104959669),\n",
       " ('H', 155.06947654215),\n",
       " ('F', 165.07897859668998),\n",
       " ('R', 174.1116757073),\n",
       " ('Y', 181.07389321624999),\n",
       " ('W', 204.08987763355998)]"
      ]
     },
     "execution_count": 61,
     "metadata": {},
     "output_type": "execute_result"
    }
   ],
   "source": [
    "AA.insert(0,(' ',0))\n",
    "AA"
   ]
  },
  {
   "cell_type": "code",
   "execution_count": 80,
   "metadata": {
    "collapsed": false
   },
   "outputs": [
    {
     "name": "stdout",
     "output_type": "stream",
     "text": [
      "Current bookmarks:\n",
      "Capno -> /Users/mad/Desktop/Capno\n",
      "MSpep -> /Users/mad/Documents/ mad/ en cours/python/isotope2\n"
     ]
    }
   ],
   "source": [
    "%bookmark -l"
   ]
  },
  {
   "cell_type": "code",
   "execution_count": 83,
   "metadata": {
    "collapsed": false
   },
   "outputs": [
    {
     "name": "stdout",
     "output_type": "stream",
     "text": [
      "total 3960\r\n",
      "-rw-r--r--  1 mad  staff  338176 Jan 24 22:29 CAPNO v3.ipynb\r\n",
      "-rw-r--r--  1 mad  staff  372850 Jan 24 19:40 CAPNO MAD.ipynb\r\n",
      "-rw-r--r--  1 mad  staff  169578 Jan 24 15:33 CAPNO.ipynb\r\n",
      "-rw-------  1 mad  staff  186649 Jan 24 11:52 Untitled0.ipynb\r\n",
      "-rw-r--r--@ 1 mad  staff   39403 Jan 24 09:32 54911 cancer du sein.txt\r\n",
      "-rw-r--r--@ 1 mad  staff  174225 Jan 24 09:32 10581GUHMANN EMPHYSEME.txt\r\n",
      "-rw-r--r--@ 1 mad  staff  444045 Jan 18 14:27 Ajustement_python (1).ipynb\r\n",
      "-rw-r--r--@ 1 mad  staff    2315 Dec 25 09:19 Ajustement_python_SH1.py\r\n",
      "-rw-r--r--@ 1 mad  staff   39646 Nov 28 23:30 essai_importation.txt\r\n",
      "-rw-r--r--@ 1 mad  staff    3164 Nov 27 23:20 Capnographie.py\r\n",
      "-rw-r--r--@ 1 mad  staff  231315 Nov 27 23:17 Capnographie.html\r\n",
      "-rw-r--r--@ 1 mad  staff     114 Nov 27 22:37 capno.txt\r\n"
     ]
    }
   ],
   "source": [
    "ls -lt"
   ]
  },
  {
   "cell_type": "code",
   "execution_count": 84,
   "metadata": {
    "collapsed": false
   },
   "outputs": [
    {
     "name": "stdout",
     "output_type": "stream",
     "text": [
      "The text you're trying to load seems pretty big (338176 characters). Continue (y/[N]) ? N\n",
      "Operation cancelled.\n"
     ]
    }
   ],
   "source": [
    "%load 'CAPNO v3.ipynb'"
   ]
  },
  {
   "cell_type": "code",
   "execution_count": null,
   "metadata": {
    "collapsed": false
   },
   "outputs": [],
   "source": []
  }
 ],
 "metadata": {
  "kernelspec": {
   "display_name": "Python 2",
   "language": "python",
   "name": "python2"
  },
  "language_info": {
   "codemirror_mode": {
    "name": "ipython",
    "version": 2
   },
   "file_extension": ".py",
   "mimetype": "text/x-python",
   "name": "python",
   "nbconvert_exporter": "python",
   "pygments_lexer": "ipython2",
   "version": "2.7.10"
  }
 },
 "nbformat": 4,
 "nbformat_minor": 0
}
