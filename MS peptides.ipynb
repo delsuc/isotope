{
 "metadata": {
  "name": "",
  "signature": "sha256:bbfb062722006631f650b58e585fb7afdd1f3961e11a8d284dd1c7f4ec746256"
 },
 "nbformat": 3,
 "nbformat_minor": 0,
 "worksheets": [
  {
   "cells": [
    {
     "cell_type": "code",
     "collapsed": false,
     "input": [
      "%pylab inline\n",
      "from isotopes import *"
     ],
     "language": "python",
     "metadata": {},
     "outputs": [
      {
       "output_type": "stream",
       "stream": "stdout",
       "text": [
        "Populating the interactive namespace from numpy and matplotlib\n"
       ]
      }
     ],
     "prompt_number": 1
    },
    {
     "cell_type": "markdown",
     "metadata": {},
     "source": [
      "## les peptides"
     ]
    },
    {
     "cell_type": "code",
     "collapsed": false,
     "input": [
      "KEL = \"+K+ELCKAVSVSM\"\n",
      "PL110 = \"+K+S*LCKAVSVSM\"\n",
      "PL111 = \"+K+ELCKAVS*VSM\"\n",
      "PL110d = \"+K+SLCKAVSVSM\"\n",
      "PL111d = \"+K+ELCKAVSVSM\""
     ],
     "language": "python",
     "metadata": {},
     "outputs": [],
     "prompt_number": 2
    },
    {
     "cell_type": "code",
     "collapsed": false,
     "input": [
      "seq = PL110\n",
      "form = parse_peptide(seq)"
     ],
     "language": "python",
     "metadata": {},
     "outputs": [],
     "prompt_number": 3
    },
    {
     "cell_type": "code",
     "collapsed": false,
     "input": [
      "form"
     ],
     "language": "python",
     "metadata": {},
     "outputs": [
      {
       "metadata": {},
       "output_type": "pyout",
       "prompt_number": 4,
       "text": [
        "C_48 H_90 N_13 O_18 P S_2 "
       ]
      }
     ],
     "prompt_number": 4
    },
    {
     "cell_type": "markdown",
     "metadata": {},
     "source": [
      "Masse average et monoiso du peptide\n",
      "Le peptide est naturellement charg\u00e9"
     ]
    },
    {
     "cell_type": "code",
     "collapsed": false,
     "input": [
      "print form.average(), form.monoisotop()"
     ],
     "language": "python",
     "metadata": {},
     "outputs": [
      {
       "output_type": "stream",
       "stream": "stdout",
       "text": [
        "1232.40975744 1231.57058173\n"
       ]
      }
     ],
     "prompt_number": 5
    },
    {
     "cell_type": "markdown",
     "metadata": {},
     "source": [
      "Le peptide est naturellement charg\u00e9\n",
      "on recherche avec plusieurs charges"
     ]
    },
    {
     "cell_type": "code",
     "collapsed": false,
     "input": [
      "seq = PL110\n",
      "form = parse_peptide(seq)\n",
      "m = form.monoisotop()\n",
      "for i in range(1,5):\n",
      "    print \"Z=%d  M/Z = %f\"%(i,(m+i)/i)"
     ],
     "language": "python",
     "metadata": {},
     "outputs": [
      {
       "output_type": "stream",
       "stream": "stdout",
       "text": [
        "Z=1  M/Z = 1232.570582\n",
        "Z=2  M/Z = 616.785291\n",
        "Z=3  M/Z = 411.523527\n",
        "Z=4  M/Z = 308.892645\n"
       ]
      }
     ],
     "prompt_number": 6
    },
    {
     "cell_type": "markdown",
     "metadata": {},
     "source": [
      "On recherche avec un ion adduit"
     ]
    },
    {
     "cell_type": "code",
     "collapsed": false,
     "input": [
      "seq = PL111\n",
      "form = parse_peptide(seq)\n",
      "addformula(form, parse_formula(\"PO3\"))\n",
      "m = form.monoisotop()\n",
      "for i in range(1,5):\n",
      "    print \"Z=%d  M/Z = %f\"%(i,(m+i)/i)"
     ],
     "language": "python",
     "metadata": {},
     "outputs": [
      {
       "output_type": "stream",
       "stream": "stdout",
       "text": [
        "Z=1  M/Z = 1353.539652\n",
        "Z=2  M/Z = 677.269826\n",
        "Z=3  M/Z = 451.846551\n",
        "Z=4  M/Z = 339.134913\n"
       ]
      }
     ],
     "prompt_number": 7
    },
    {
     "cell_type": "markdown",
     "metadata": {},
     "source": [
      "On enleve un groupement"
     ]
    },
    {
     "cell_type": "code",
     "collapsed": false,
     "input": [
      "seq = PL111\n",
      "form = parse_peptide(seq)\n",
      "to_remove = parse_formula(\"PO3\")\n",
      "for i in to_remove.keys():\n",
      "    form[i] -= to_remove[i]\n",
      "m = form.monoisotop()\n",
      "for i in range(1,5):\n",
      "    print \"Z=%d  M/Z = %f\"%(i,(m+i)/i)\n",
      "    "
     ],
     "language": "python",
     "metadata": {},
     "outputs": [
      {
       "output_type": "stream",
       "stream": "stdout",
       "text": [
        "Z=1  M/Z = 1195.622641\n",
        "Z=2  M/Z = 598.311320\n",
        "Z=3  M/Z = 399.207547\n",
        "Z=4  M/Z = 299.655660\n"
       ]
      }
     ],
     "prompt_number": 8
    },
    {
     "cell_type": "markdown",
     "metadata": {},
     "source": [
      "On peut calculer la distribution isotopique, et m\u00eame la dessiner"
     ]
    },
    {
     "cell_type": "code",
     "collapsed": false,
     "input": [
      "D = form.distribution()\n",
      "print D\n",
      "D.draw()"
     ],
     "language": "python",
     "metadata": {},
     "outputs": [
      {
       "output_type": "stream",
       "stream": "stdout",
       "text": [
        "1194.622641  100.0000000000\n",
        "1195.625470  62.0746451836\n",
        "1196.625315  31.1950718779\n",
        "1197.627949  11.3425293013\n",
        "1198.630491  3.3949399597\n",
        "1199.633950  0.8548880726\n",
        "1200.638026  0.1855131647\n",
        "1201.642595  0.0352632673\n",
        "1202.647487  0.0059492552\n",
        "1203.652607  0.0009020074\n",
        "1204.657981  0.0001232579\n",
        "\n"
       ]
      },
      {
       "metadata": {},
       "output_type": "display_data",
       "png": "[encoded data removed]",
       "text": [
        "<matplotlib.figure.Figure at 0x108ed89d0>"
       ]
      }
     ],
     "prompt_number": 9
    },
    {
     "cell_type": "code",
     "collapsed": false,
     "input": [],
     "language": "python",
     "metadata": {},
     "outputs": [],
     "prompt_number": 9
    }
   ],
   "metadata": {}
  }
 ]
}