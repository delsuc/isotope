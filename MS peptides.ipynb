{
 "metadata": {
  "name": "",
  "signature": "sha256:1ac37f7dc828d2d734e3c66af08a4a374c15a333080592491b31279b58876c75"
 },
 "nbformat": 3,
 "nbformat_minor": 0,
 "worksheets": [
  {
   "cells": [
    {
     "cell_type": "markdown",
     "metadata": {},
     "source": [
      "## Example file for the isotopes module\n",
      "This notebook presents how the isotopes.py module can be used to predict MS spectra of peptides, including some Post Translationnal Modifications"
     ]
    },
    {
     "cell_type": "code",
     "collapsed": false,
     "input": [
      "%matplotlib inline\n",
      "import isotopes as iso"
     ],
     "language": "python",
     "metadata": {},
     "outputs": [
      {
       "output_type": "stream",
       "stream": "stderr",
       "text": [
        "Vendor:  Continuum Analytics, Inc.\n",
        "Package: mkl\n",
        "Message: trial mode expires in 18 days\n"
       ]
      }
     ],
     "prompt_number": 1
    },
    {
     "cell_type": "markdown",
     "metadata": {},
     "source": [
      "## les peptides\n",
      "\n",
      "straight pirmary sequences using 1 letter code is interpreted, a few PTM are available, check `iso.parse_peptide?` for more information"
     ]
    },
    {
     "cell_type": "markdown",
     "metadata": {},
     "source": [
      "KEL0 = \"KELCKAVSVSM\"\n",
      "KEL1 = \"K+ELCKAVSVSM\"  # + is for protonation\n",
      "KEL2 = \"KELCKAVS*VSM\"  # * is for phosphorylation"
     ]
    },
    {
     "cell_type": "code",
     "collapsed": false,
     "input": [
      "iso.parse_peptide?"
     ],
     "language": "python",
     "metadata": {},
     "outputs": [],
     "prompt_number": 2
    },
    {
     "cell_type": "code",
     "collapsed": false,
     "input": [
      "seq = \"KELCKAVSVSM\"\n",
      "form = iso.parse_peptide(seq)"
     ],
     "language": "python",
     "metadata": {},
     "outputs": [],
     "prompt_number": 3
    },
    {
     "cell_type": "markdown",
     "metadata": {},
     "source": [
      "`iso.parse_peptide(seq)` returns a `Formula`, an object handling generic chemical formula.\n",
      "\n",
      "It has a methods for computing masses and isotopic distribution, as well as printing itself :"
     ]
    },
    {
     "cell_type": "code",
     "collapsed": false,
     "input": [
      "form"
     ],
     "language": "python",
     "metadata": {},
     "outputs": [
      {
       "metadata": {},
       "output_type": "pyout",
       "prompt_number": 4,
       "text": [
        "C_50 H_91 N_13 O_16 S_2 "
       ]
      }
     ],
     "prompt_number": 4
    },
    {
     "cell_type": "markdown",
     "metadata": {},
     "source": [
      "Average and monoisotopic peptide masses\n",
      "\n",
      "assuming no charge"
     ]
    },
    {
     "cell_type": "code",
     "collapsed": false,
     "input": [
      "print form.average(), form.monoisotop()"
     ],
     "language": "python",
     "metadata": {},
     "outputs": [
      {
       "output_type": "stream",
       "stream": "stdout",
       "text": [
        "1194.4665985 1193.61481589\n"
       ]
      }
     ],
     "prompt_number": 5
    },
    {
     "cell_type": "markdown",
     "metadata": {},
     "source": [
      "Let's compute $m/z$ for varying level of protonation"
     ]
    },
    {
     "cell_type": "code",
     "collapsed": false,
     "input": [
      "seq = \"KELCKAVSVSM\"\n",
      "form = iso.parse_peptide(seq)\n",
      "m = form.monoisotop()\n",
      "for i in range(1,5):\n",
      "    print \"Z=%d  M/Z = %f\"%(i,(m+i)/i)"
     ],
     "language": "python",
     "metadata": {},
     "outputs": [
      {
       "output_type": "stream",
       "stream": "stdout",
       "text": [
        "Z=1  M/Z = 1194.614816\n",
        "Z=2  M/Z = 597.807408\n",
        "Z=3  M/Z = 398.871605\n",
        "Z=4  M/Z = 299.403704\n"
       ]
      }
     ],
     "prompt_number": 6
    },
    {
     "cell_type": "markdown",
     "metadata": {},
     "source": [
      "`Formula` can be created easily with `iso.parse_formula()`\n",
      "\n",
      "It is easy to a groupment to a given formula using `addformula()`"
     ]
    },
    {
     "cell_type": "code",
     "collapsed": false,
     "input": [
      "seq = \"KELCKAVSVSM\"\n",
      "form = iso.parse_peptide(seq)\n",
      "iso.addformula(form, iso.parse_formula(\"PO3\"))\n",
      "m = form.monoisotop()\n",
      "for i in range(1,4):\n",
      "    print \"Z=%d  M/Z = %f\"%(i,(m+i)/i)"
     ],
     "language": "python",
     "metadata": {},
     "outputs": [
      {
       "output_type": "stream",
       "stream": "stdout",
       "text": [
        "Z=1  M/Z = 1273.573321\n",
        "Z=2  M/Z = 637.286661\n",
        "Z=3  M/Z = 425.191107\n"
       ]
      }
     ],
     "prompt_number": 7
    },
    {
     "cell_type": "markdown",
     "metadata": {},
     "source": [
      "But the operation is wrong, because adding a phosphate requires removing a proton,\n",
      "\n",
      "one way to do it :"
     ]
    },
    {
     "cell_type": "code",
     "collapsed": false,
     "input": [
      "seq = \"KELCKAVS*VSM\"\n",
      "form = iso.parse_peptide(seq)\n",
      "m = form.monoisotop()\n",
      "for i in range(1,4):\n",
      "    print \"Z=%d  M/Z = %f\"%(i,(m+i)/i)"
     ],
     "language": "python",
     "metadata": {},
     "outputs": [
      {
       "output_type": "stream",
       "stream": "stdout",
       "text": [
        "Z=1  M/Z = 1272.565496\n",
        "Z=2  M/Z = 636.782748\n",
        "Z=3  M/Z = 424.855165\n"
       ]
      }
     ],
     "prompt_number": 8
    },
    {
     "cell_type": "markdown",
     "metadata": {},
     "source": [
      "Another, more convoluted way :"
     ]
    },
    {
     "cell_type": "code",
     "collapsed": false,
     "input": [
      "seq = \"KELCKAVSVSM\"\n",
      "form = iso.parse_peptide(seq)\n",
      "# fist add a full phosphate molecule\n",
      "iso.addformula(form, iso.parse_formula(\"HPO4\"))\n",
      "# removing a groupement (here water group)\n",
      "iso.rmformula(form, iso.parse_formula(\"H2O\"))\n",
      "m = form.monoisotop()\n",
      "for i in range(1,5):\n",
      "    print \"Z=%d  M/Z = %f\"%(i,(m+i)/i)\n",
      "    "
     ],
     "language": "python",
     "metadata": {},
     "outputs": [
      {
       "output_type": "stream",
       "stream": "stdout",
       "text": [
        "Z=1  M/Z = 1272.565496\n",
        "Z=2  M/Z = 636.782748\n",
        "Z=3  M/Z = 424.855165\n",
        "Z=4  M/Z = 318.891374\n"
       ]
      }
     ],
     "prompt_number": 9
    },
    {
     "cell_type": "markdown",
     "metadata": {},
     "source": [
      "You can compute isotopic distribution, and even draw them"
     ]
    },
    {
     "cell_type": "code",
     "collapsed": false,
     "input": [
      "D = form.distribution()\n",
      "print D\n",
      "D.draw()"
     ],
     "language": "python",
     "metadata": {},
     "outputs": [
      {
       "output_type": "stream",
       "stream": "stdout",
       "text": [
        "1271.565496  100.0000000000\n",
        "1272.568326  62.1659202331\n",
        "1273.568208  31.8682498442\n",
        "1274.570865  11.7540338893\n",
        "1275.573300  3.5990876805\n",
        "1276.576674  0.9288049701\n",
        "1277.580540  0.2076574523\n",
        "1278.584857  0.0408578759\n",
        "1279.589453  0.0071698298\n",
        "1280.594258  0.0011355666\n",
        "1281.599280  0.0001629043\n",
        "\n"
       ]
      },
      {
       "metadata": {},
       "output_type": "display_data",
       "png": "[encoded data removed]",
       "text": [
        "<matplotlib.figure.Figure at 0x109139590>"
       ]
      }
     ],
     "prompt_number": 10
    },
    {
     "cell_type": "code",
     "collapsed": false,
     "input": [],
     "language": "python",
     "metadata": {},
     "outputs": [],
     "prompt_number": 10
    }
   ],
   "metadata": {}
  }
 ]
}