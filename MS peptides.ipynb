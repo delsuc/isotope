{
 "cells": [
  {
   "cell_type": "markdown",
   "metadata": {},
   "source": [
    "## Example file for the isotopes module\n",
    "This notebook presents how the isotopes.py module can be used to predict MS spectra of peptides, including some Post Translationnal Modifications"
   ]
  },
  {
   "cell_type": "code",
   "execution_count": 1,
   "metadata": {
    "collapsed": false
   },
   "outputs": [],
   "source": [
    "%matplotlib inline\n",
    "import isotopes as iso"
   ]
  },
  {
   "cell_type": "markdown",
   "metadata": {},
   "source": [
    "## peptides\n",
    "\n",
    "straight pirmary sequences using 1 letter code is interpreted, a few PTM are available, check `iso.parse_peptide?` for more information"
   ]
  },
  {
   "cell_type": "markdown",
   "metadata": {},
   "source": [
    "KEL0 = \"KELCKAVSVSM\"\n",
    "KEL1 = \"K+ELCKAVSVSM\"  # + is for protonation\n",
    "KEL2 = \"KELCKAVS*VSM\"  # * is for phosphorylation"
   ]
  },
  {
   "cell_type": "code",
   "execution_count": 2,
   "metadata": {
    "collapsed": false
   },
   "outputs": [],
   "source": [
    "iso.parse_peptide?"
   ]
  },
  {
   "cell_type": "code",
   "execution_count": 8,
   "metadata": {
    "collapsed": false
   },
   "outputs": [],
   "source": [
    "seq = \"IEANPHILIPPE\"\n",
    "form = iso.parse(seq)"
   ]
  },
  {
   "cell_type": "markdown",
   "metadata": {},
   "source": [
    "`iso.parse_peptide(seq)` returns a `Formula`, an object handling generic chemical formula.\n",
    "\n",
    "It has a methods for computing masses and isotopic distribution, as well as printing itself :"
   ]
  },
  {
   "cell_type": "code",
   "execution_count": 9,
   "metadata": {
    "collapsed": false
   },
   "outputs": [
    {
     "name": "stdout",
     "output_type": "stream",
     "text": [
      "C_62 H_99 N_15 O_18\n"
     ]
    }
   ],
   "source": [
    "print form"
   ]
  },
  {
   "cell_type": "markdown",
   "metadata": {},
   "source": [
    "Average and monoisotopic peptide masses\n",
    "\n",
    "assuming no charge"
   ]
  },
  {
   "cell_type": "code",
   "execution_count": 10,
   "metadata": {
    "collapsed": false
   },
   "outputs": [
    {
     "name": "stdout",
     "output_type": "stream",
     "text": [
      "1342.5415971 1341.7292514\n"
     ]
    }
   ],
   "source": [
    "print form.average(), form.monoisotop()"
   ]
  },
  {
   "cell_type": "markdown",
   "metadata": {},
   "source": [
    "Let's compute $m/z$ for varying level of protonation"
   ]
  },
  {
   "cell_type": "code",
   "execution_count": 11,
   "metadata": {
    "collapsed": false
   },
   "outputs": [
    {
     "name": "stdout",
     "output_type": "stream",
     "text": [
      "Z=1  M/Z = 1342.729251\n",
      "Z=2  M/Z = 671.864626\n",
      "Z=3  M/Z = 448.243084\n",
      "Z=4  M/Z = 336.432313\n"
     ]
    }
   ],
   "source": [
    "m = form.monoisotop()\n",
    "for i in range(1,5):\n",
    "    print \"Z=%d  M/Z = %f\"%(i,(m+i)/i)"
   ]
  },
  {
   "cell_type": "markdown",
   "metadata": {},
   "source": [
    "`Formula` can be created easily with `iso.parse_formula()`\n",
    "\n",
    "It is easy to a groupment to a given formula using `addformula()`"
   ]
  },
  {
   "cell_type": "code",
   "execution_count": 12,
   "metadata": {
    "collapsed": false
   },
   "outputs": [
    {
     "name": "stdout",
     "output_type": "stream",
     "text": [
      "Z=1  M/Z = 1421.687757\n",
      "Z=2  M/Z = 711.343878\n",
      "Z=3  M/Z = 474.562586\n"
     ]
    }
   ],
   "source": [
    "iso.addformula(form, iso.parse_formula(\"PO3\"))\n",
    "m = form.monoisotop()\n",
    "for i in range(1,4):\n",
    "    print \"Z=%d  M/Z = %f\"%(i,(m+i)/i)"
   ]
  },
  {
   "cell_type": "markdown",
   "metadata": {},
   "source": [
    "But the operation is wrong, because adding a phosphate requires removing a proton,\n",
    "\n",
    "one way to do it :"
   ]
  },
  {
   "cell_type": "code",
   "execution_count": 9,
   "metadata": {
    "collapsed": false
   },
   "outputs": [
    {
     "name": "stdout",
     "output_type": "stream",
     "text": [
      "Z=1  M/Z = 1272.565496\n",
      "Z=2  M/Z = 636.782748\n",
      "Z=3  M/Z = 424.855165\n"
     ]
    }
   ],
   "source": [
    "seq = \"KELCKAVS*VSM\"\n",
    "form = iso.parse_peptide(seq)\n",
    "m = form.monoisotop()\n",
    "for i in range(1,4):\n",
    "    print \"Z=%d  M/Z = %f\"%(i,(m+i)/i)"
   ]
  },
  {
   "cell_type": "markdown",
   "metadata": {},
   "source": [
    "Another, more convoluted way :"
   ]
  },
  {
   "cell_type": "code",
   "execution_count": 9,
   "metadata": {
    "collapsed": false
   },
   "outputs": [
    {
     "name": "stdout",
     "output_type": "stream",
     "text": [
      "Z=1  M/Z = 1272.565496\n",
      "Z=2  M/Z = 636.782748\n",
      "Z=3  M/Z = 424.855165\n",
      "Z=4  M/Z = 318.891374\n"
     ]
    }
   ],
   "source": [
    "seq = \"KELCKAVSVSM\"\n",
    "form = iso.parse_peptide(seq)\n",
    "# fist add a full phosphate molecule\n",
    "iso.addformula(form, iso.parse_formula(\"HPO4\"))\n",
    "# removing a groupement (here water group)\n",
    "iso.rmformula(form, iso.parse_formula(\"H2O\"))\n",
    "m = form.monoisotop()\n",
    "for i in range(1,5):\n",
    "    print \"Z=%d  M/Z = %f\"%(i,(m+i)/i)\n",
    "    "
   ]
  },
  {
   "cell_type": "markdown",
   "metadata": {},
   "source": [
    "You can compute isotopic distribution, and even draw them"
   ]
  },
  {
   "cell_type": "code",
   "execution_count": 10,
   "metadata": {
    "collapsed": false
   },
   "outputs": [
    {
     "name": "stdout",
     "output_type": "stream",
     "text": [
      "1271.565496  100.0000000000\n",
      "1272.568326  62.1659202331\n",
      "1273.568208  31.8682498442\n",
      "1274.570865  11.7540338893\n",
      "1275.573300  3.5990876805\n",
      "1276.576674  0.9288049701\n",
      "1277.580540  0.2076574523\n",
      "1278.584857  0.0408578759\n",
      "1279.589453  0.0071698298\n",
      "1280.594258  0.0011355666\n",
      "1281.599280  0.0001629043\n",
      "\n"
     ]
    },
    {
     "data": {
      "image/png": "[encoded data removed]",
      "text/plain": [
       "<matplotlib.figure.Figure at 0x1061ccb90>"
      ]
     },
     "metadata": {},
     "output_type": "display_data"
    }
   ],
   "source": [
    "D = form.distribution()\n",
    "print D\n",
    "D.draw()"
   ]
  },
  {
   "cell_type": "code",
   "execution_count": 18,
   "metadata": {
    "collapsed": false
   },
   "outputs": [
    {
     "name": "stdout",
     "output_type": "stream",
     "text": [
      " A 89.0476784684\n",
      "C 121.019749468\n",
      "D 133.037507708\n",
      "E 147.053157772\n",
      "F 165.078978597\n",
      "G 75.0320284043\n",
      "H 155.069476542\n",
      "I 131.094628661\n",
      "K 146.105527698\n",
      "L 131.094628661\n",
      "M 149.051049597\n",
      "N 132.053492125\n",
      "P 115.063328533\n",
      "Q 146.069142189\n",
      "R 174.111675707\n",
      "S 105.042593088\n",
      "T 119.058243152\n",
      "V 117.078978597\n",
      "Y 181.073893216\n",
      "W 204.089877634\n"
     ]
    }
   ],
   "source": [
    "AA = \"ACDEFGHIKLMNPQRSTVYW\"\n",
    "len(AA)\n",
    "for a in AA:\n",
    "    print a,iso.parse_peptide(a).monoisotop()"
   ]
  },
  {
   "cell_type": "code",
   "execution_count": 14,
   "metadata": {
    "collapsed": false
   },
   "outputs": [],
   "source": [
    "a = iso.parse_peptide(\"A\")"
   ]
  },
  {
   "cell_type": "code",
   "execution_count": 90,
   "metadata": {
    "collapsed": false
   },
   "outputs": [
    {
     "name": "stdout",
     "output_type": "stream",
     "text": [
      "0 1 [0]\n"
     ]
    },
    {
     "ename": "NameError",
     "evalue": "global name 'pl' is not defined",
     "output_type": "error",
     "traceback": [
      "\u001b[0;31m---------------------------------------------------------------------------\u001b[0m\n\u001b[0;31mNameError\u001b[0m                                 Traceback (most recent call last)",
      "\u001b[0;32m<ipython-input-90-75305321ad1d>\u001b[0m in \u001b[0;36m<module>\u001b[0;34m()\u001b[0m\n\u001b[1;32m     20\u001b[0m \u001b[0;34m\u001b[0m\u001b[0m\n\u001b[1;32m     21\u001b[0m \u001b[0;31m#print iso.parse_peptide(\"GTW\").monoisotop()\u001b[0m\u001b[0;34m\u001b[0m\u001b[0;34m\u001b[0m\u001b[0m\n\u001b[0;32m---> 22\u001b[0;31m \u001b[0mfindpep\u001b[0m\u001b[0;34m(\u001b[0m\u001b[0;36m60\u001b[0m\u001b[0;34m,\u001b[0m\u001b[0;36m100\u001b[0m\u001b[0;34m)\u001b[0m\u001b[0;34m\u001b[0m\u001b[0m\n\u001b[0m",
      "\u001b[0;32m<ipython-input-90-75305321ad1d>\u001b[0m in \u001b[0;36mfindpep\u001b[0;34m(mass, ppm)\u001b[0m\n\u001b[1;32m     13\u001b[0m     \u001b[0;32mprint\u001b[0m \u001b[0mNMin\u001b[0m\u001b[0;34m,\u001b[0m \u001b[0mNMax\u001b[0m\u001b[0;34m,\u001b[0m \u001b[0mpeplist\u001b[0m\u001b[0;34m\u001b[0m\u001b[0m\n\u001b[1;32m     14\u001b[0m     \u001b[0;32mfor\u001b[0m \u001b[0mN\u001b[0m \u001b[0;32min\u001b[0m \u001b[0mrange\u001b[0m\u001b[0;34m(\u001b[0m\u001b[0mNMax\u001b[0m\u001b[0;34m)\u001b[0m\u001b[0;34m:\u001b[0m  \u001b[0;31m# for all possible positions\u001b[0m\u001b[0;34m\u001b[0m\u001b[0m\n\u001b[0;32m---> 15\u001b[0;31m         \u001b[0mpepmass\u001b[0m \u001b[0;34m=\u001b[0m \u001b[0msum\u001b[0m\u001b[0;34m(\u001b[0m \u001b[0;34m[\u001b[0m \u001b[0mAA\u001b[0m\u001b[0;34m[\u001b[0m\u001b[0mp\u001b[0m\u001b[0;34m]\u001b[0m\u001b[0;34m[\u001b[0m\u001b[0;36m1\u001b[0m\u001b[0;34m]\u001b[0m \u001b[0;32mfor\u001b[0m \u001b[0mp\u001b[0m \u001b[0;32min\u001b[0m \u001b[0mpl\u001b[0m\u001b[0;34m]\u001b[0m \u001b[0;34m)\u001b[0m\u001b[0;34m\u001b[0m\u001b[0m\n\u001b[0m\u001b[1;32m     16\u001b[0m         \u001b[0;32mif\u001b[0m \u001b[0mpepmass\u001b[0m \u001b[0;34m>\u001b[0m \u001b[0mmass\u001b[0m\u001b[0;34m+\u001b[0m\u001b[0;36m1\u001b[0m\u001b[0;34m:\u001b[0m\u001b[0;34m\u001b[0m\u001b[0m\n\u001b[1;32m     17\u001b[0m             \u001b[0;32mbreak\u001b[0m\u001b[0;34m\u001b[0m\u001b[0m\n",
      "\u001b[0;31mNameError\u001b[0m: global name 'pl' is not defined"
     ]
    }
   ],
   "source": [
    "def findpep(mass, ppm=100.0):\n",
    "    mcbound = iso.parse_formula(\"CONH\").monoisotop()-iso.parse_formula(\"H2O\").monoisotop()\n",
    "    AA = [(a,iso.parse_peptide(a).monoisotop()-mcbound) for a in \"ACDEFGHIKLMNPQRSTVYW\"]\n",
    "    AA.sort(key=lambda x: x[1])\n",
    "    AA.insert(0,(' ',0))\n",
    "    Gm = AA[1][1]\n",
    "    Wm = AA[20][1]\n",
    "    #print Gm, Wm, AA\n",
    "    NMax = int(mass/Gm)  # maximum number of amino-acids\n",
    "    precis = ppm*mass/1E6\n",
    "    peplist = [0]*NMax\n",
    "    print NMin, NMax, peplist\n",
    "    for N in range(NMax):  # for all possible positions\n",
    "        pepmass = sum( [ AA[p][1] for p in pl] )\n",
    "        if pepmass > mass+1:\n",
    "            break\n",
    "        if abs(pepmass - mass) < precis:\n",
    "            print \"***\", peplist, pepmass\n",
    "        \n",
    "#print iso.parse_peptide(\"GTW\").monoisotop()\n",
    "findpep(60,100)"
   ]
  },
  {
   "cell_type": "code",
   "execution_count": 59,
   "metadata": {
    "collapsed": false
   },
   "outputs": [],
   "source": [
    "AA = [(a,iso.parse_peptide(a).monoisotop()) for a in \"ACDEFGHIKLMNPQRSTVYW\"]\n"
   ]
  },
  {
   "cell_type": "code",
   "execution_count": 60,
   "metadata": {
    "collapsed": false
   },
   "outputs": [],
   "source": [
    "AA.sort(key=lambda x: x[1])"
   ]
  },
  {
   "cell_type": "code",
   "execution_count": 61,
   "metadata": {
    "collapsed": false
   },
   "outputs": [
    {
     "data": {
      "text/plain": [
       "[(' ', 0),\n",
       " ('G', 75.03202840427),\n",
       " ('A', 89.04767846841),\n",
       " ('S', 105.04259308797),\n",
       " ('P', 115.06332853255),\n",
       " ('V', 117.07897859668999),\n",
       " ('T', 119.05824315211),\n",
       " ('C', 121.01974946841),\n",
       " ('I', 131.09462866083),\n",
       " ('L', 131.09462866083),\n",
       " ('N', 132.05349212484),\n",
       " ('D', 133.03750770753),\n",
       " ('Q', 146.06914218897998),\n",
       " ('K', 146.1055276977),\n",
       " ('E', 147.05315777167),\n",
       " ('M', 149.05104959669),\n",
       " ('H', 155.06947654215),\n",
       " ('F', 165.07897859668998),\n",
       " ('R', 174.1116757073),\n",
       " ('Y', 181.07389321624999),\n",
       " ('W', 204.08987763355998)]"
      ]
     },
     "execution_count": 61,
     "metadata": {},
     "output_type": "execute_result"
    }
   ],
   "source": [
    "AA.insert(0,(' ',0))\n",
    "AA"
   ]
  },
  {
   "cell_type": "code",
   "execution_count": 80,
   "metadata": {
    "collapsed": false
   },
   "outputs": [
    {
     "name": "stdout",
     "output_type": "stream",
     "text": [
      "Current bookmarks:\n",
      "Capno -> /Users/mad/Desktop/Capno\n",
      "MSpep -> /Users/mad/Documents/ mad/ en cours/python/isotope2\n"
     ]
    }
   ],
   "source": [
    "%bookmark -l"
   ]
  },
  {
   "cell_type": "code",
   "execution_count": 1,
   "metadata": {
    "collapsed": false
   },
   "outputs": [
    {
     "name": "stdout",
     "output_type": "stream",
     "text": [
      "total 2168\r\n",
      "-rw-r--r--@  1 mad  staff   33589 Dec 10 14:13 convolution.ipynb\r\n",
      "-rw-r--r--   1 mad  staff    3452 Nov 29 16:53 Sumo-KELCKAV-papier.ipynb\r\n",
      "-rw-r--r--   1 mad  staff   24890 Nov 29 16:48 MS peptides.ipynb\r\n",
      "-rw-r--r--   1 mad  staff    8484 Oct 17 14:17 Untitled-Copy1.ipynb\r\n",
      "-rw-r--r--   1 mad  staff   35586 Oct 17 14:16 Untitled0.ipynb\r\n",
      "-rw-r--r--   1 mad  staff   15436 Oct 17 12:36 Sumo-KELCKAV.ipynb\r\n",
      "-rw-r--r--   1 mad  staff   45584 Oct 17 12:35 EPI1.ipynb\r\n",
      "-rw-r--r--   1 mad  staff   59681 Sep 27 16:21 Untitled.ipynb\r\n",
      "-rw-r--r--   1 mad  staff   81233 Sep  6 15:09 example.ipynb\r\n",
      "-rw-r--r--   1 mad  staff   26835 May 20  2016 isotopes.pyc\r\n",
      "-rw-r--r--@  1 mad  staff   26737 May 20  2016 isotopes.py\r\n",
      "drwxr-xr-x   4 mad  staff     136 Apr  8  2016 \u001b[34mPeter\u001b[m\u001b[m/\r\n",
      "-rw-r--r--   1 mad  staff    4947 Mar 31  2016 proteins.pyc\r\n",
      "-rw-r--r--@  1 mad  staff    4039 Mar 31  2016 proteins.py\r\n",
      "-rw-r--r--@  1 mad  staff     947 Jan  8  2016 insaturation.py\r\n",
      "-rw-r--r--   1 mad  staff    5434 Oct  5  2015 FID.pyc\r\n",
      "-rw-r--r--@  1 mad  staff    5202 Jul  2  2015 FID.py\r\n",
      "-rw-r--r--@  1 mad  staff    4566 Mar 21  2015 anal.py\r\n",
      "-rw-r--r--   1 mad  staff   22994 Nov  4  2014 isotopes_pypy.pyc\r\n",
      "-rw-r--r--   1 mad  staff    1351 Nov  4  2014 insaturation.pyc\r\n",
      "-rw-r--r--@  1 mad  staff    1640 Oct 31  2014 test.py\r\n",
      "-rw-r--r--@  1 mad  staff    7191 Oct 29  2014 chemparser.py\r\n",
      "-rw-r--r--   1 mad  staff    1682 Oct 29  2014 README.md\r\n",
      "-rw-r--r--@  1 mad  staff   19506 Oct 28  2014 isotopes_pypy.py\r\n",
      "-rw-r--r--@  1 mad  staff    5844 Oct 27  2014 analyseperf_mad.py\r\n",
      "-rw-r--r--   1 mad  staff   55055 Oct 27  2014 figure_2.png\r\n",
      "-rw-r--r--@  1 mad  staff    4752 Oct 27  2014 analyseperf.py\r\n",
      "-rw-r--r--   1 mad  staff   46954 Oct 27  2014 figure_1.png\r\n",
      "-rw-r--r--@  1 mad  staff    8702 Oct 27  2014 pylintrc_AV\r\n",
      "-rw-r--r--   1 mad  staff    2675 Oct 27  2014 test_analyseperf.py\r\n",
      "-rw-r--r--@  1 mad  staff    2103 Oct 24  2014 test_anal.py\r\n",
      "-rw-r--r--@  1 mad  staff      41 Oct 17  2014 tto\r\n",
      "-rw-r--r--@  1 mad  staff    2090 Sep 17  2014 NTD-DBD.py\r\n",
      "-rw-r--r--@  1 mad  staff   91115 May  5  2014 isotopes.docx\r\n",
      "-rw-r--r--@  1 mad  staff  148818 Apr 16  2014 ptmlist.txt\r\n",
      "-rw-r--r--@  1 mad  staff   27623 Apr 11  2014 elements.asc\r\n",
      "lrwxr-xr-x   1 mad  staff      16 Apr  5  2014 \u001b[35mmetropolis.py\u001b[m\u001b[m@ -> ../metropolis.py\r\n",
      "-rwxr-xr-x   1 mad  staff   34884 Mar 27  2014 \u001b[31ma.out\u001b[m\u001b[m*\r\n",
      "-rw-r--r--   1 mad  staff   23248 Mar 27  2014 mass.o\r\n",
      "-rw-r--r--   1 mad  staff   18012 Mar 27  2014 parser.o\r\n",
      "-rw-r--r--   1 mad  staff    2860 Mar 27  2014 test.o\r\n",
      "drwxr-xr-x@ 42 mad  staff    1428 Mar 27  2014 \u001b[34mipc-1.4\u001b[m\u001b[m/\r\n",
      "-rw-r--r--@  1 mad  staff     476 Mar 27  2014 mass.h\r\n",
      "-rw-r--r--@  1 mad  staff    9826 Mar 27  2014 parser.c\r\n",
      "-rw-r--r--@  1 mad  staff     171 Mar 27  2014 test.c\r\n",
      "-rw-r--r--@  1 mad  staff   81493 Mar 27  2014 ipc-1.4.tar.gz\r\n"
     ]
    }
   ],
   "source": [
    "ls -lt"
   ]
  },
  {
   "cell_type": "code",
   "execution_count": 84,
   "metadata": {
    "collapsed": false
   },
   "outputs": [
    {
     "name": "stdout",
     "output_type": "stream",
     "text": [
      "The text you're trying to load seems pretty big (338176 characters). Continue (y/[N]) ? N\n",
      "Operation cancelled.\n"
     ]
    }
   ],
   "source": [
    "%load 'CAPNO v3.ipynb'"
   ]
  },
  {
   "cell_type": "code",
   "execution_count": 3,
   "metadata": {
    "collapsed": false
   },
   "outputs": [],
   "source": [
    "import proteins as p"
   ]
  },
  {
   "cell_type": "code",
   "execution_count": 15,
   "metadata": {
    "collapsed": true
   },
   "outputs": [],
   "source": [
    "pep = p.averagine(1850)"
   ]
  },
  {
   "cell_type": "code",
   "execution_count": 22,
   "metadata": {
    "collapsed": false
   },
   "outputs": [
    {
     "data": {
      "text/plain": [
       "1601.73303353345"
      ]
     },
     "execution_count": 22,
     "metadata": {},
     "output_type": "execute_result"
    }
   ],
   "source": [
    "pep = iso.parse_peptide(\"ACDEFGHIKLMNPQ\")\n",
    "pep.monoisotop()"
   ]
  },
  {
   "cell_type": "code",
   "execution_count": 23,
   "metadata": {
    "collapsed": false
   },
   "outputs": [
    {
     "data": {
      "image/png": "[encoded data removed]",
      "text/plain": [
       "<matplotlib.figure.Figure at 0x10e341a90>"
      ]
     },
     "metadata": {},
     "output_type": "display_data"
    }
   ],
   "source": [
    "pep.distribution().draw()"
   ]
  },
  {
   "cell_type": "code",
   "execution_count": null,
   "metadata": {
    "collapsed": true
   },
   "outputs": [],
   "source": []
  }
 ],
 "metadata": {
  "kernelspec": {
   "display_name": "Python 2",
   "language": "python",
   "name": "python2"
  },
  "language_info": {
   "codemirror_mode": {
    "name": "ipython",
    "version": 2
   },
   "file_extension": ".py",
   "mimetype": "text/x-python",
   "name": "python",
   "nbconvert_exporter": "python",
   "pygments_lexer": "ipython2",
   "version": "2.7.12"
  }
 },
 "nbformat": 4,
 "nbformat_minor": 0
}
