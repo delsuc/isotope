{
 "cells": [
  {
   "cell_type": "markdown",
   "metadata": {
    "toc": true
   },
   "source": [
    "<h1>Table of Contents<span class=\"tocSkip\"></span></h1>\n",
    "<div class=\"toc\"><ul class=\"toc-item\"><li><span><a href=\"#Example-file-for-the-isotopes-module\" data-toc-modified-id=\"Example-file-for-the-isotopes-module-1\"><span class=\"toc-item-num\">1&nbsp;&nbsp;</span>Example file for the isotopes module</a></span></li><li><span><a href=\"#peptides\" data-toc-modified-id=\"peptides-2\"><span class=\"toc-item-num\">2&nbsp;&nbsp;</span>peptides</a></span></li></ul></div>"
   ]
  },
  {
   "cell_type": "markdown",
   "metadata": {},
   "source": [
    "## Example file for the isotopes module\n",
    "This notebook presents how the isotopes.py module can be used to predict MS spectra of peptides, including some Post Translationnal Modifications"
   ]
  },
  {
   "cell_type": "code",
   "execution_count": 1,
   "metadata": {
    "ExecuteTime": {
     "end_time": "2019-06-14T11:50:53.599787Z",
     "start_time": "2019-06-14T11:50:52.808020Z"
    }
   },
   "outputs": [],
   "source": [
    "%matplotlib inline\n",
    "import isotopes as iso"
   ]
  },
  {
   "cell_type": "markdown",
   "metadata": {},
   "source": [
    "## peptides\n",
    "\n",
    "straight pirmary sequences using 1 letter code is interpreted, a few PTM are available, check `iso.parse_peptide?` for more information"
   ]
  },
  {
   "cell_type": "markdown",
   "metadata": {},
   "source": [
    "KEL0 = \"KELCKAVSVSM\"\n",
    "KEL1 = \"K+ELCKAVSVSM\"  # + is for protonation\n",
    "KEL2 = \"KELCKAVS*VSM\"  # * is for phosphorylation"
   ]
  },
  {
   "cell_type": "code",
   "execution_count": 2,
   "metadata": {
    "ExecuteTime": {
     "end_time": "2019-06-14T11:50:56.020922Z",
     "start_time": "2019-06-14T11:50:55.985983Z"
    }
   },
   "outputs": [],
   "source": [
    "iso.parse_peptide?"
   ]
  },
  {
   "cell_type": "code",
   "execution_count": 3,
   "metadata": {
    "ExecuteTime": {
     "end_time": "2019-06-14T11:51:02.893900Z",
     "start_time": "2019-06-14T11:51:02.888468Z"
    }
   },
   "outputs": [],
   "source": [
    "seq = \"IEANPHILIPPE\"\n",
    "form = iso.parse(seq)"
   ]
  },
  {
   "cell_type": "markdown",
   "metadata": {},
   "source": [
    "`iso.parse_peptide(seq)` returns a `Formula`, an object handling generic chemical formula.\n",
    "\n",
    "It has a methods for computing masses and isotopic distribution, as well as printing itself :"
   ]
  },
  {
   "cell_type": "code",
   "execution_count": 5,
   "metadata": {
    "ExecuteTime": {
     "end_time": "2019-06-14T11:51:20.496380Z",
     "start_time": "2019-06-14T11:51:20.493770Z"
    }
   },
   "outputs": [
    {
     "name": "stdout",
     "output_type": "stream",
     "text": [
      "C_62 H_99 N_15 O_18\n"
     ]
    }
   ],
   "source": [
    "print (form)"
   ]
  },
  {
   "cell_type": "markdown",
   "metadata": {},
   "source": [
    "Average and monoisotopic peptide masses\n",
    "\n",
    "assuming no charge"
   ]
  },
  {
   "cell_type": "code",
   "execution_count": 6,
   "metadata": {
    "ExecuteTime": {
     "end_time": "2019-06-14T11:51:28.027595Z",
     "start_time": "2019-06-14T11:51:28.022789Z"
    }
   },
   "outputs": [
    {
     "name": "stdout",
     "output_type": "stream",
     "text": [
      "1342.5415971006046 1341.72925139901\n"
     ]
    }
   ],
   "source": [
    "print (form.average(), form.monoisotop())"
   ]
  },
  {
   "cell_type": "markdown",
   "metadata": {},
   "source": [
    "Let's compute $m/z$ for varying level of protonation"
   ]
  },
  {
   "cell_type": "code",
   "execution_count": 7,
   "metadata": {
    "ExecuteTime": {
     "end_time": "2019-06-14T11:51:33.476712Z",
     "start_time": "2019-06-14T11:51:33.470236Z"
    }
   },
   "outputs": [
    {
     "name": "stdout",
     "output_type": "stream",
     "text": [
      "Z=1  M/Z = 1342.729251\n",
      "Z=2  M/Z = 671.864626\n",
      "Z=3  M/Z = 448.243084\n",
      "Z=4  M/Z = 336.432313\n"
     ]
    }
   ],
   "source": [
    "m = form.monoisotop()\n",
    "for i in range(1,5):\n",
    "    print( \"Z=%d  M/Z = %f\"%(i,(m+i)/i))"
   ]
  },
  {
   "cell_type": "markdown",
   "metadata": {},
   "source": [
    "`Formula` can be created easily with `iso.parse_formula()`\n",
    "\n",
    "It is easy to a groupment to a given formula using `addformula()`"
   ]
  },
  {
   "cell_type": "code",
   "execution_count": 8,
   "metadata": {
    "ExecuteTime": {
     "end_time": "2019-06-14T11:52:24.402612Z",
     "start_time": "2019-06-14T11:52:24.396784Z"
    }
   },
   "outputs": [
    {
     "name": "stdout",
     "output_type": "stream",
     "text": [
      "Z=1  M/Z = 1421.687757\n",
      "Z=2  M/Z = 711.343878\n",
      "Z=3  M/Z = 474.562586\n"
     ]
    }
   ],
   "source": [
    "iso.addformula(form, iso.parse_formula(\"PO3\"))\n",
    "m = form.monoisotop()\n",
    "for i in range(1,4):\n",
    "    print (\"Z=%d  M/Z = %f\"%(i,(m+i)/i))"
   ]
  },
  {
   "cell_type": "markdown",
   "metadata": {},
   "source": [
    "But the operation is wrong, because adding a phosphate requires removing a proton,\n",
    "\n",
    "one way to do it :"
   ]
  },
  {
   "cell_type": "code",
   "execution_count": 9,
   "metadata": {
    "ExecuteTime": {
     "end_time": "2019-06-14T11:52:44.373155Z",
     "start_time": "2019-06-14T11:52:44.366187Z"
    }
   },
   "outputs": [
    {
     "name": "stdout",
     "output_type": "stream",
     "text": [
      "Z=1  M/Z = 1272.565496\n",
      "Z=2  M/Z = 636.782748\n",
      "Z=3  M/Z = 424.855165\n"
     ]
    }
   ],
   "source": [
    "seq = \"KELCKAVS*VSM\"\n",
    "form = iso.parse_peptide(seq)\n",
    "m = form.monoisotop()\n",
    "for i in range(1,4):\n",
    "    print (\"Z=%d  M/Z = %f\"%(i,(m+i)/i))"
   ]
  },
  {
   "cell_type": "markdown",
   "metadata": {},
   "source": [
    "Another, more convoluted way :"
   ]
  },
  {
   "cell_type": "code",
   "execution_count": 10,
   "metadata": {
    "ExecuteTime": {
     "end_time": "2019-06-14T11:52:59.848617Z",
     "start_time": "2019-06-14T11:52:59.838183Z"
    }
   },
   "outputs": [
    {
     "name": "stdout",
     "output_type": "stream",
     "text": [
      "Z=1  M/Z = 1272.565496\n",
      "Z=2  M/Z = 636.782748\n",
      "Z=3  M/Z = 424.855165\n",
      "Z=4  M/Z = 318.891374\n"
     ]
    }
   ],
   "source": [
    "seq = \"KELCKAVSVSM\"\n",
    "form = iso.parse_peptide(seq)\n",
    "# fist add a full phosphate molecule\n",
    "iso.addformula(form, iso.parse_formula(\"HPO4\"))\n",
    "# removing a groupement (here water group)\n",
    "iso.rmformula(form, iso.parse_formula(\"H2O\"))\n",
    "m = form.monoisotop()\n",
    "for i in range(1,5):\n",
    "    print( \"Z=%d  M/Z = %f\"%(i,(m+i)/i))\n",
    "    "
   ]
  },
  {
   "cell_type": "markdown",
   "metadata": {},
   "source": [
    "You can compute isotopic distribution, and even draw them"
   ]
  },
  {
   "cell_type": "code",
   "execution_count": 11,
   "metadata": {
    "ExecuteTime": {
     "end_time": "2019-06-14T11:53:08.227848Z",
     "start_time": "2019-06-14T11:53:07.663822Z"
    }
   },
   "outputs": [
    {
     "name": "stdout",
     "output_type": "stream",
     "text": [
      "1271.565496  100.0000000000\n",
      "1272.568326  62.1659202331\n",
      "1273.568208  31.8682498442\n",
      "1274.569089  11.7329790414\n",
      "1275.569679  3.6072198284\n",
      "1276.570512  0.9360617347\n",
      "1277.571490  0.2114745485\n",
      "1278.572655  0.0422176168\n",
      "1279.573951  0.0075497937\n",
      "1280.575368  0.0012228117\n",
      "1281.576835  0.0001802931\n",
      "\n"
     ]
    },
    {
     "data": {
      "image/png": "[encoded data removed]",
      "text/plain": [
       "<Figure size 432x288 with 1 Axes>"
      ]
     },
     "metadata": {},
     "output_type": "display_data"
    }
   ],
   "source": [
    "D = form.distribution()\n",
    "print (D)\n",
    "D.draw()"
   ]
  },
  {
   "cell_type": "code",
   "execution_count": 12,
   "metadata": {
    "ExecuteTime": {
     "end_time": "2019-06-14T11:53:13.920015Z",
     "start_time": "2019-06-14T11:53:13.896885Z"
    }
   },
   "outputs": [
    {
     "name": "stdout",
     "output_type": "stream",
     "text": [
      "A 89.04767846841\n",
      "C 121.01974946841\n",
      "D 133.03750770752998\n",
      "E 147.05315777167\n",
      "F 165.07897859668998\n",
      "G 75.03202840427\n",
      "H 155.06947654215\n",
      "I 131.09462866082998\n",
      "K 146.10552769769998\n",
      "L 131.09462866082998\n",
      "M 149.05104959669\n",
      "N 132.05349212484\n",
      "P 115.06332853255\n",
      "Q 146.06914218898\n",
      "R 174.11167570729998\n",
      "S 105.04259308797\n",
      "T 119.05824315211001\n",
      "V 117.07897859668999\n",
      "Y 181.07389321624999\n",
      "W 204.08987763355998\n"
     ]
    }
   ],
   "source": [
    "AA = \"ACDEFGHIKLMNPQRSTVYW\"\n",
    "len(AA)\n",
    "for a in AA:\n",
    "    print (a,iso.parse_peptide(a).monoisotop())"
   ]
  },
  {
   "cell_type": "code",
   "execution_count": null,
   "metadata": {
    "collapsed": true
   },
   "outputs": [],
   "source": []
  }
 ],
 "metadata": {
  "kernelspec": {
   "display_name": "Python 3",
   "language": "python",
   "name": "python3"
  },
  "language_info": {
   "codemirror_mode": {
    "name": "ipython",
    "version": 3
   },
   "file_extension": ".py",
   "mimetype": "text/x-python",
   "name": "python",
   "nbconvert_exporter": "python",
   "pygments_lexer": "ipython3",
   "version": "3.6.8"
  },
  "toc": {
   "base_numbering": 1,
   "nav_menu": {},
   "number_sections": true,
   "sideBar": true,
   "skip_h1_title": true,
   "title_cell": "Table of Contents",
   "title_sidebar": "Contents",
   "toc_cell": true,
   "toc_position": {},
   "toc_section_display": true,
   "toc_window_display": false
  },
  "varInspector": {
   "cols": {
    "lenName": 16,
    "lenType": 16,
    "lenVar": 40
   },
   "kernels_config": {
    "python": {
     "delete_cmd_postfix": "",
     "delete_cmd_prefix": "del ",
     "library": "var_list.py",
     "varRefreshCmd": "print(var_dic_list())"
    },
    "r": {
     "delete_cmd_postfix": ") ",
     "delete_cmd_prefix": "rm(",
     "library": "var_list.r",
     "varRefreshCmd": "cat(var_dic_list()) "
    }
   },
   "types_to_exclude": [
    "module",
    "function",
    "builtin_function_or_method",
    "instance",
    "_Feature"
   ],
   "window_display": false
  }
 },
 "nbformat": 4,
 "nbformat_minor": 1
}
