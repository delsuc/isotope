{
 "cells": [
  {
   "cell_type": "markdown",
   "metadata": {},
   "source": [
    "# isotopes\n",
    "Some examples of what can be done"
   ]
  },
  {
   "cell_type": "code",
   "execution_count": 1,
   "metadata": {
    "ExecuteTime": {
     "end_time": "2021-07-24T13:45:30.796505Z",
     "start_time": "2021-07-24T13:45:30.412388Z"
    }
   },
   "outputs": [],
   "source": [
    "import isotopes as iso\n",
    "import matplotlib.pyplot as plt"
   ]
  },
  {
   "cell_type": "markdown",
   "metadata": {},
   "source": [
    "## Handling molecular formula\n"
   ]
  },
  {
   "cell_type": "code",
   "execution_count": 2,
   "metadata": {
    "ExecuteTime": {
     "end_time": "2021-07-24T13:45:30.804829Z",
     "start_time": "2021-07-24T13:45:30.798601Z"
    }
   },
   "outputs": [
    {
     "data": {
      "text/html": [
       "C<sub>19</sub> H<sub>38</sub> O<sub>6</sub> S"
      ],
      "text/plain": [
       "C_19 H_38 O_6 S"
      ]
     },
     "execution_count": 2,
     "metadata": {},
     "output_type": "execute_result"
    }
   ],
   "source": [
    "mol = \"SH (CH2)11 (OCH2CH2)3 OCH2 COOH\"\n",
    "iso.parse_formula( mol )"
   ]
  },
  {
   "cell_type": "code",
   "execution_count": 3,
   "metadata": {
    "ExecuteTime": {
     "end_time": "2021-07-24T13:45:30.811247Z",
     "start_time": "2021-07-24T13:45:30.806985Z"
    }
   },
   "outputs": [
    {
     "name": "stdout",
     "output_type": "stream",
     "text": [
      "\n",
      "Molecule: SH (CH2)11 (OCH2CH2)3 OCH2 COOH\n",
      "Formula:  C_19 H_38 O_6 S\n",
      "Monoisotopic mass: 394.238910\n",
      "Average mass:      394.567\n",
      "\n"
     ]
    }
   ],
   "source": [
    "formula = iso.parse_formula( mol )\n",
    "print(\"\"\"\n",
    "Molecule: {0}\n",
    "Formula:  {1}\n",
    "Monoisotopic mass: {2:.6f}\n",
    "Average mass:      {3:.3f}\n",
    "\"\"\".format(mol, formula, formula.monoisotop(), formula.average()))"
   ]
  },
  {
   "cell_type": "markdown",
   "metadata": {},
   "source": [
    "## Handling proteins\n"
   ]
  },
  {
   "cell_type": "code",
   "execution_count": 4,
   "metadata": {
    "ExecuteTime": {
     "end_time": "2021-07-24T13:45:30.819041Z",
     "start_time": "2021-07-24T13:45:30.813512Z"
    }
   },
   "outputs": [
    {
     "data": {
      "text/html": [
       "C<sub>378</sub> H<sub>629</sub> N<sub>105</sub> O<sub>118</sub> S"
      ],
      "text/plain": [
       "C_378 H_629 N_105 O_118 S"
      ]
     },
     "execution_count": 4,
     "metadata": {},
     "output_type": "execute_result"
    }
   ],
   "source": [
    "ubi = \"MQIFVKTLTGKTITLEVEPSDTIENVKAKIQDKEGIPPDQQRLIFAGKQLEDGRTLSDYNIQKESTLHLVLRLRGG\" # ubiquitine\n",
    "iso.parse_peptide(ubi)"
   ]
  },
  {
   "cell_type": "code",
   "execution_count": 5,
   "metadata": {
    "ExecuteTime": {
     "end_time": "2021-07-24T13:45:30.825725Z",
     "start_time": "2021-07-24T13:45:30.820620Z"
    }
   },
   "outputs": [
    {
     "name": "stdout",
     "output_type": "stream",
     "text": [
      "\n",
      "Molecule: MQIFVKTLTGKTITLEVEPSDTIENVKAKIQDKEGIPPDQQRLIFAGKQLEDGRTLSDYNIQKESTLHLVLRLRGG\n",
      "Formula:  C_378 H_629 N_105 O_118 S\n",
      "Monoisotopic mass: 8559.616712\n",
      "Average mass:      8564.751\n",
      "\n"
     ]
    }
   ],
   "source": [
    "fubi = iso.parse_peptide( ubi )\n",
    "print(\"\"\"\n",
    "Molecule: {0}\n",
    "Formula:  {1}\n",
    "Monoisotopic mass: {2:.6f}\n",
    "Average mass:      {3:.3f}\n",
    "\"\"\".format(ubi, fubi, fubi.monoisotop(), fubi.average()))"
   ]
  },
  {
   "cell_type": "markdown",
   "metadata": {},
   "source": [
    "## molecular arithmetics\n"
   ]
  },
  {
   "cell_type": "code",
   "execution_count": 6,
   "metadata": {
    "ExecuteTime": {
     "end_time": "2021-07-24T13:45:30.834361Z",
     "start_time": "2021-07-24T13:45:30.827531Z"
    }
   },
   "outputs": [
    {
     "name": "stdout",
     "output_type": "stream",
     "text": [
      "Ethanol molecule:  C_2 H_7 O\n",
      "peptide P1 VVAVG: C_20 H_37 N_5 O_6\n",
      "ligation EtO-P2-EtO - 2 H2O: C_24 H_47 N_5 O_6\n",
      "monoisotopic masses P1: 47.050  P2: 443.274  ligation:: 501.353\n"
     ]
    }
   ],
   "source": [
    "form1 = iso.parse_formula(\"CH3 CH3 OH\")\n",
    "form2 = iso.parse_peptide(\"VVAVG\")\n",
    "print(\"Ethanol molecule: \", form1)\n",
    "print(\"peptide P1 VVAVG:\", form2)\n",
    "# you can do formula arithmetics\n",
    "somme = 2*form1 + form2 - 2*iso.parse_formula(\"H2O\")   #  addition, substraction and multiplication are supported\n",
    "print(\"ligation EtO-P2-EtO - 2 H2O:\", somme)\n",
    "print (\"monoisotopic masses P1: %.3f  P2: %.3f  ligation:: %.3f\"%(form1.monoisotop(), form2.monoisotop(), somme.monoisotop()))\n"
   ]
  },
  {
   "cell_type": "markdown",
   "metadata": {},
   "source": [
    "## MS spectra\n",
    "let's compute the MS spectrum of Ubiquitin 6+"
   ]
  },
  {
   "cell_type": "code",
   "execution_count": 7,
   "metadata": {
    "ExecuteTime": {
     "end_time": "2021-07-24T13:45:31.451210Z",
     "start_time": "2021-07-24T13:45:30.835895Z"
    }
   },
   "outputs": [
    {
     "name": "stdout",
     "output_type": "stream",
     "text": [
      "Simplified Isotopic pattern:\n",
      " 8565.663662  4.6386275933\n",
      "8566.666538  21.3275736938\n",
      "8567.669337  50.2565163307\n",
      "8568.672072  80.7811602317\n",
      "8569.674750  99.4877735681\n",
      "8570.677381  100.0000000000\n",
      "8571.679972  85.3482972820\n",
      "8572.682527  63.5491017987\n",
      "8573.685053  42.0985353557\n",
      "8574.687553  25.1835505386\n",
      "8575.690032  13.7626002930\n",
      "8576.692493  6.9352166116\n",
      "8577.694938  3.2471643169\n",
      "8578.697371  1.4216275109\n",
      "8579.699792  0.5850890878\n",
      "8580.702204  0.2273914608\n",
      "8581.704607  0.0837700619\n",
      "8582.707000  0.0293413802\n",
      "8583.709372  0.0097893692\n",
      "8584.711699  0.0031120884\n",
      "8585.713998  0.0009443296\n",
      "8586.716218  0.0002728075\n",
      " \n",
      "\n"
     ]
    },
    {
     "data": {
      "image/png": "[encoded data removed]",
      "text/plain": [
       "<Figure size 432x288 with 1 Axes>"
      ]
     },
     "metadata": {
      "needs_background": "light"
     },
     "output_type": "display_data"
    }
   ],
   "source": [
    "fubi6 = fubi + iso.parse_formula('H6')   # we assume positive H+ ionisation\n",
    "D = fubi6.distribution()\n",
    "print (\"Simplified Isotopic pattern:\\n\",D,\"\\n\")\n",
    "# draw at Resolving Power = 70k\n",
    "D.draw(charge=6, RP=70000)\n",
    "# draw at very low res\n",
    "D.draw_lowres(charge=6)\n",
    "plt.title(\"Ubiquitine 6+  RP=70k\");"
   ]
  },
  {
   "cell_type": "markdown",
   "metadata": {},
   "source": [
    "##     Not only organic chemistry !\n"
   ]
  },
  {
   "cell_type": "code",
   "execution_count": 8,
   "metadata": {
    "ExecuteTime": {
     "end_time": "2021-07-24T13:45:31.619350Z",
     "start_time": "2021-07-24T13:45:31.453607Z"
    }
   },
   "outputs": [
    {
     "name": "stdout",
     "output_type": "stream",
     "text": [
      "Isotopic distribution for Palladium:\n",
      "101.905609  3.7321624588\n",
      "103.904036  40.7610684230\n",
      "104.905085  81.7050859861\n",
      "105.903486  100.0000000000\n",
      "107.903892  96.8166849616\n",
      "109.905153  42.8832784486\n",
      "\n",
      "monoisotopic mass of atoms is defined as the most naturally abundant, hence ¹⁰⁶Pd here\n",
      "\n"
     ]
    },
    {
     "data": {
      "image/png": "[encoded data removed]",
      "text/plain": [
       "<Figure size 432x288 with 1 Axes>"
      ]
     },
     "metadata": {
      "needs_background": "light"
     },
     "output_type": "display_data"
    }
   ],
   "source": [
    "print(\"Isotopic distribution for Palladium:\")\n",
    "print( iso.parse_formula('Pd').distribution())\n",
    "alloy = iso.parse(\"Pd\")\n",
    "alloy.distribution().bar(label=\"Pd\")\n",
    "plt.legend()\n",
    "plt.xlim(xmin=100)\n",
    "print(\"monoisotopic mass of atoms is defined as the most naturally abundant, hence ¹⁰⁶Pd here\\n\")\n"
   ]
  },
  {
   "cell_type": "code",
   "execution_count": 9,
   "metadata": {
    "ExecuteTime": {
     "end_time": "2021-07-24T13:45:32.271959Z",
     "start_time": "2021-07-24T13:45:31.621229Z"
    }
   },
   "outputs": [
    {
     "name": "stdout",
     "output_type": "stream",
     "text": [
      "Palladium alloy: Au2 Ca10 Ga10 Pd76\n",
      "parsed formula Au_2 Ca_10 Ga_10 Pd_76\n",
      "average mass: 9579.509  monoisotopic mass: 9531.480\n"
     ]
    },
    {
     "data": {
      "image/png": "[encoded data removed]",
      "text/plain": [
       "<Figure size 864x216 with 1 Axes>"
      ]
     },
     "metadata": {
      "needs_background": "light"
     },
     "output_type": "display_data"
    }
   ],
   "source": [
    "Pdalloy = \"Au2 Ca10 Ga10 Pd76\"\n",
    "print(\"Palladium alloy:\", Pdalloy)\n",
    "alloy = iso.parse(Pdalloy)     # is a short cut for either parse_formula or parse_peptide\n",
    "print(\"parsed formula\",alloy)\n",
    "print (\"average mass: %.3f  monoisotopic mass: %.3f\"%(alloy.average(), alloy.monoisotop()))\n",
    "plt.figure(figsize=(12,3))\n",
    "alloy.distribution().bar()"
   ]
  },
  {
   "cell_type": "markdown",
   "metadata": {},
   "source": [
    "## fine isotopic pattern\n",
    "test distribution on insuline covalent dimer\n",
    "\n",
    "*based on the excellent neutronstar program  from https://bitbucket.org/orserang/neutronstar.git* "
   ]
  },
  {
   "cell_type": "code",
   "execution_count": 10,
   "metadata": {
    "ExecuteTime": {
     "end_time": "2021-07-24T13:45:32.275607Z",
     "start_time": "2021-07-24T13:45:32.273411Z"
    }
   },
   "outputs": [],
   "source": [
    "# NS contains the location of the neutronstar binary\n",
    "# should be defined in the configuration part of the code, but can be given on the fly\n",
    "iso.NS = \"./neutronstar/src/neutronstar\""
   ]
  },
  {
   "cell_type": "code",
   "execution_count": 11,
   "metadata": {
    "ExecuteTime": {
     "end_time": "2021-07-24T13:45:32.405763Z",
     "start_time": "2021-07-24T13:45:32.277416Z"
    }
   },
   "outputs": [
    {
     "name": "stdout",
     "output_type": "stream",
     "text": [
      "First 20 entries sorted by abundance\n",
      "[5731.607581  100.0000000000,\n",
      " 5732.610936  91.6079604605,\n",
      " 5730.604226  72.4862356083,\n",
      " 5733.614290  62.6903756950,\n",
      " 5734.617645  34.1841515352,\n",
      " 5733.603377  26.8593553603,\n",
      " 5729.600871  26.1678415595,\n",
      " 5734.606731  24.6053076384,\n",
      " 5732.604616  23.7594368312,\n",
      " 5733.607970  21.7655354980,\n",
      " 5732.600022  19.4693356093,\n",
      " 5731.601261  17.2223213607,\n",
      " 5735.610086  16.8382307846,\n",
      " 5735.621000  15.4713007967,\n",
      " 5733.611826  15.4229530993,\n",
      " 5734.611325  14.8948802125,\n",
      " 5734.615180  14.1286527771,\n",
      " 5732.608471  11.1795181213,\n",
      " 5735.618535  9.6687072412,\n",
      " 5736.613441  9.1816427378]\n",
      "\n",
      "and sorted by mass\n",
      "[5729.600871  26.1678415595,\n",
      " 5730.597906  6.2173317854,\n",
      " 5730.600259  1.2429315664,\n",
      " 5730.604226  72.4862356083,\n",
      " 5730.605088  0.7495663194,\n",
      " 5730.607148  1.1416415952,\n",
      " 5731.594941  0.7272384089,\n",
      " 5731.596667  7.0285135546,\n",
      " 5731.597294  0.2953135404,\n",
      " 5731.599646  0.0245988776,\n",
      " 5731.601261  17.2223213607,\n",
      " 5731.602123  0.1780927362,\n",
      " 5731.603614  3.4429828751,\n",
      " 5731.604183  0.2712476136,\n",
      " 5731.604476  0.0356032284,\n",
      " 5731.605116  4.0358539308,\n",
      " 5731.606535  0.0542261911,\n",
      " 5731.607581  100.0000000000,\n",
      " 5731.608443  2.0763363577,\n",
      " 5731.609305  0.0105923589]\n"
     ]
    }
   ],
   "source": [
    "from pprint import pprint\n",
    "cc = iso.parse_peptide(\"GIVEQCCASVCSLYQLENYCN\")\n",
    "cd = iso.parse_peptide(\"FVNQHLCGSHLVEALYLVCGERGFFYTPKA\")\n",
    "\n",
    "insuline = cc + cd - iso.parse_formula(\"H6\")    # remove 6 H for 3 disulfides\n",
    "\n",
    "D1 = insuline.distribution()\n",
    "try:\n",
    "    Df1 = insuline.fineisotopicdistrib()\n",
    "    ok = True\n",
    "except:\n",
    "    print(\"neutronstar utilities is not installed - check instructions\")\n",
    "    ok = False\n",
    "if ok:\n",
    "    N = 20\n",
    "    print (\"First %d entries sorted by abundance\"%N)\n",
    "    pprint(Df1.distrib[0:N])  # sorted by abundance\n",
    "    print (\"\\nand sorted by mass\")\n",
    "    Df1.sort_by_mass()\n",
    "    pprint(Df1.distrib[0:N])"
   ]
  },
  {
   "cell_type": "code",
   "execution_count": 12,
   "metadata": {
    "ExecuteTime": {
     "end_time": "2021-07-24T13:45:43.182276Z",
     "start_time": "2021-07-24T13:45:32.407747Z"
    }
   },
   "outputs": [
    {
     "name": "stdout",
     "output_type": "stream",
     "text": [
      "try zooming on peaks\n"
     ]
    },
    {
     "data": {
      "image/png": "[encoded data removed]",
      "text/plain": [
       "<Figure size 864x216 with 1 Axes>"
      ]
     },
     "metadata": {
      "needs_background": "light"
     },
     "output_type": "display_data"
    },
    {
     "data": {
      "image/png": "[encoded data removed]",
      "text/plain": [
       "<Figure size 864x216 with 4 Axes>"
      ]
     },
     "metadata": {
      "needs_background": "light"
     },
     "output_type": "display_data"
    }
   ],
   "source": [
    "if ok:\n",
    "    # computing with neutronstar is very fast - drawing fine isotopic at high RP is slow !\n",
    "    plt.figure(1,figsize=(12,3))\n",
    "    D1.draw(RP=1E6, color='b', label=\"simplified pattern - RP=1E6\")\n",
    "    Df1.draw(RP=1E6, color='r', label=\"fine pattern - RP=1E6\")\n",
    "    Df1.bar(color='r')\n",
    "    plt.legend()\n",
    "    plt.title(\"comparing simple and detailled isotopic patterns for insuline\")\n",
    "    plt.figure(2,figsize=(12,3))\n",
    "    for i,ion in enumerate([0,1,4,8]):\n",
    "        # inefficient code (redraw all and zoom) but easy to read\n",
    "        plt.subplot(1,4,i+1)\n",
    "        D1.draw(RP=1E6, color='b', label=\"ion %d\"%ion)\n",
    "        Df1.draw(RP=1E6, color='r')\n",
    "        Df1.bar(color='r')\n",
    "        plt.legend()\n",
    "        plt.xlim(xmin=D1.distrib[ion].mass-0.03, xmax=D1.distrib[ion].mass+0.03)\n",
    "    print(\"try zooming on peaks\")"
   ]
  },
  {
   "cell_type": "markdown",
   "metadata": {},
   "source": [
    "## PTM & fragmentation peptides\n",
    "### let's phosphorylate Ubiquitin on Threonin 12  "
   ]
  },
  {
   "cell_type": "code",
   "execution_count": 13,
   "metadata": {
    "ExecuteTime": {
     "end_time": "2021-07-24T13:45:43.189978Z",
     "start_time": "2021-07-24T13:45:43.183553Z"
    }
   },
   "outputs": [
    {
     "name": "stdout",
     "output_type": "stream",
     "text": [
      "a * indicates a phosphorylation, there are other PTM - see below\n",
      "here on T12  -  see https://pubmed.ncbi.nlm.nih.gov/33022275/ \n",
      " MQIFVKTLTGKT*ITLEVEPSDTIENVKAKIQDKEGIPPDQQRLIFAGKQLEDGRTLSDYNIQKESTLHLVLRLRGG\n",
      "Average masses: native: 8564.75,  phosphorylated: 8644.73\n",
      "difference: 79.98\n"
     ]
    }
   ],
   "source": [
    " phosprot = ubi[:12]+\"*\"+ubi[12:]\n",
    "U = iso.parse(ubi)\n",
    "P = iso.parse(phosprot)\n",
    "print(\"\"\"a * indicates a phosphorylation, there are other PTM - see below\n",
    "here on T12  -  see https://pubmed.ncbi.nlm.nih.gov/33022275/ \n",
    "\"\"\",phosprot)\n",
    "print(\"Average masses: native: %.2f,  phosphorylated: %.2f\"%(U.average(), P.average()))\n",
    "print(\"difference: %.2f\"%(P.average()-U.average()))"
   ]
  },
  {
   "cell_type": "markdown",
   "metadata": {},
   "source": [
    "### and simulate a tryptic cut at R42"
   ]
  },
  {
   "cell_type": "code",
   "execution_count": 14,
   "metadata": {
    "ExecuteTime": {
     "end_time": "2021-07-24T13:45:43.200048Z",
     "start_time": "2021-07-24T13:45:43.191417Z"
    }
   },
   "outputs": [
    {
     "name": "stdout",
     "output_type": "stream",
     "text": [
      " tryptic peptide: MQIFVKTLTGKT*ITLEVEPSDTIENVKAKIQDKEGIPPDQQR\n",
      " peptide b11  MQIFVKTLTGK \n",
      "  monoisotopic:  1247.71858991597\n",
      " peptide y32 T*ITLEVEPSDTIENVKAKIQDKEGIPPDQQR \n",
      "  monoisotopic:  3571.7896622554294\n"
     ]
    }
   ],
   "source": [
    "pep = phosprot[:43]\n",
    "L = len(pep)\n",
    "# generate a b/y fragmentation at position 11\n",
    "cut = 11\n",
    "pep_b = pep[:cut]\n",
    "Mpep_b = iso.parse_peptide(pep_b, ends='b').monoisotop()\n",
    "pep_y = pep[cut:]\n",
    "Mpep_y = iso.parse_peptide(pep_y, starts='y').monoisotop()\n",
    "print(\" tryptic peptide:\",pep)\n",
    "print(\" peptide b11 \", pep_b, \"\\n  monoisotopic: \",Mpep_b)\n",
    "print(\" peptide y32\", pep_y,  \"\\n  monoisotopic: \",Mpep_y)\n"
   ]
  },
  {
   "cell_type": "markdown",
   "metadata": {},
   "source": [
    "`iso.parse_peptide` handles all this, here is the documentation:"
   ]
  },
  {
   "cell_type": "code",
   "execution_count": 15,
   "metadata": {
    "ExecuteTime": {
     "end_time": "2021-07-24T13:45:43.206811Z",
     "start_time": "2021-07-24T13:45:43.202557Z"
    }
   },
   "outputs": [
    {
     "name": "stdout",
     "output_type": "stream",
     "text": [
      "parse_peptide (st, extended=False, starts='NH2', ends='COOH')\n",
      "\n",
      "    compute the formula of a peptide/protein given by one letter code\n",
      "    \n",
      "    formula = parse_peptide(\"ACDEY*GH\")     # e.g.\n",
      "    letter code is standard 1 letter code for amino-acids\n",
      "    \n",
      "    for xyz/abc fragmentation\n",
      "\n",
      "    - starts is either \n",
      "        - \"NH2\" (default) - for a regular peptide\n",
      "        - \"x\"  \"y\"  \"z\" - for MS fragments \n",
      "        - or any formula\n",
      "    - ends is either\n",
      "        - \"COOH\" (default) - for a regular peptide\n",
      "        - \"a\"  \"b\"  \"c\" - for MS fragments \n",
      "        -  or any formula\n",
      "    \n",
      "    if extended is True, will also interpret U: Seleno-Cysteine and O: Pyrolysine\n",
      "\n",
      "    codes for Post Translational Modifications (PTM)\n",
      "\n",
      "    * phosphorylation\n",
      "    a acetylation\n",
      "    n amidation\n",
      "    d deamidation\n",
      "    h hydroxylation\n",
      "    o oxydation\n",
      "    + protonation\n",
      "    - deprotonation\n",
      "    m methylation\n",
      "    b beta-mercaptoethanol adduct\n",
      "    \n",
      "    Remarks\n",
      "    - the prgm does not verify the chemical coherence of the PTM !\n",
      "    - the PTM adds always the neutral form,\n",
      "    - you can have several PTM on the same residue.\n",
      "      for instance, n+ is an NH3+ amidation; Kmm is a dimethylated lysine, ACDEFGH+++ is the 3+ charged peptide\n",
      "    \n",
      "    \n"
     ]
    }
   ],
   "source": [
    "import inspect\n",
    "print(iso.parse_peptide.__name__, inspect.signature(iso.parse_peptide))\n",
    "print(iso.parse_peptide.__doc__)"
   ]
  },
  {
   "cell_type": "markdown",
   "metadata": {},
   "source": [
    "## Compare ubiquitine native, and 80% ¹⁵N enriched \n"
   ]
  },
  {
   "cell_type": "code",
   "execution_count": 16,
   "metadata": {
    "ExecuteTime": {
     "end_time": "2021-07-24T13:45:43.774128Z",
     "start_time": "2021-07-24T13:45:43.208258Z"
    }
   },
   "outputs": [
    {
     "name": "stdout",
     "output_type": "stream",
     "text": [
      "Ubiquitin: MQIFVKTLTGKTITLEVEPSDTIENVKAKIQDKEGIPPDQQRLIFAGKQLEDGRTLSDYNIQKESTLHLVLRLRGG\n",
      "C_378 H_629 N_105 O_118 S\n",
      "     Isotope(element=7, isotop=14, mass=14.0030740048, abund=0.19999999999999996)\n",
      "     Isotope(element=7, isotop=15, mass=15.0001088982, abund=0.8)\n",
      "mass difference = 83.37\n"
     ]
    },
    {
     "data": {
      "image/png": "[encoded data removed]",
      "text/plain": [
       "<Figure size 432x288 with 1 Axes>"
      ]
     },
     "metadata": {
      "needs_background": "light"
     },
     "output_type": "display_data"
    }
   ],
   "source": [
    "iso.initialize()\n",
    "form = iso.parse_peptide(ubi)\n",
    "print(\"Ubiquitin:\", ubi)\n",
    "print(form)\n",
    "# native\n",
    "Dn = form.distribution()\n",
    "aven = form.average()\n",
    "\n",
    "# enriched\n",
    "iso.enrich(element=\"N\", isotop=15, ratio=0.8) #  indicates a 80% 15N enrichment\n",
    "De = form.distribution()\n",
    "avee = form.average()\n",
    "\n",
    "fig, ax = plt.subplots()\n",
    "mn,yn = Dn.spectrify()   # spectrify returns (mass,int) ready to draw - RP is 10k by default\n",
    "ax.plot(mn,yn, label=\"native\")\n",
    "me, ye = De.spectrify()\n",
    "ax.plot(me, ye, label=\"enriched\")\n",
    "plt.legend()\n",
    "print(\"mass difference = %.2f\"%(avee-aven))\n",
    "\n",
    "# enrich() modifies the internal database - so to undo, use iso.initialize() !\n",
    "iso.initialize()"
   ]
  },
  {
   "cell_type": "code",
   "execution_count": null,
   "metadata": {
    "ExecuteTime": {
     "end_time": "2021-07-23T15:32:23.615281Z",
     "start_time": "2021-07-23T15:32:23.609690Z"
    }
   },
   "outputs": [],
   "source": []
  }
 ],
 "metadata": {
  "kernelspec": {
   "display_name": "Python 3",
   "language": "python",
   "name": "python3"
  },
  "language_info": {
   "codemirror_mode": {
    "name": "ipython",
    "version": 3
   },
   "file_extension": ".py",
   "mimetype": "text/x-python",
   "name": "python",
   "nbconvert_exporter": "python",
   "pygments_lexer": "ipython3",
   "version": "3.8.5"
  },
  "varInspector": {
   "cols": {
    "lenName": 16,
    "lenType": 16,
    "lenVar": 40
   },
   "kernels_config": {
    "python": {
     "delete_cmd_postfix": "",
     "delete_cmd_prefix": "del ",
     "library": "var_list.py",
     "varRefreshCmd": "print(var_dic_list())"
    },
    "r": {
     "delete_cmd_postfix": ") ",
     "delete_cmd_prefix": "rm(",
     "library": "var_list.r",
     "varRefreshCmd": "cat(var_dic_list()) "
    }
   },
   "types_to_exclude": [
    "module",
    "function",
    "builtin_function_or_method",
    "instance",
    "_Feature"
   ],
   "window_display": false
  }
 },
 "nbformat": 4,
 "nbformat_minor": 4
}
