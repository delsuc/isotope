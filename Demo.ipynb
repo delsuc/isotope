{
 "cells": [
  {
   "cell_type": "markdown",
   "metadata": {},
   "source": [
    "# isotopes\n",
    "Some examples of what can be done"
   ]
  },
  {
   "cell_type": "code",
   "execution_count": 1,
   "metadata": {
    "ExecuteTime": {
     "end_time": "2021-07-23T15:36:29.755795Z",
     "start_time": "2021-07-23T15:36:29.406463Z"
    }
   },
   "outputs": [],
   "source": [
    "import isotopes as iso\n",
    "import matplotlib.pyplot as plt"
   ]
  },
  {
   "cell_type": "markdown",
   "metadata": {},
   "source": [
    "## Handling molecular formula\n"
   ]
  },
  {
   "cell_type": "code",
   "execution_count": 2,
   "metadata": {
    "ExecuteTime": {
     "end_time": "2021-07-23T15:36:29.761647Z",
     "start_time": "2021-07-23T15:36:29.757557Z"
    }
   },
   "outputs": [
    {
     "name": "stdout",
     "output_type": "stream",
     "text": [
      "\n",
      "Mol: SH (CH2)11 (OCH2CH2)3 OCH2 COOH\n",
      "Formula: C_19 H_38 O_6 S\n",
      "Monoisotopic mass: 394.238910\n",
      "Average mass: 394.567\n",
      "\n"
     ]
    }
   ],
   "source": [
    "mol = \"SH (CH2)11 (OCH2CH2)3 OCH2 COOH\"\n",
    "form = iso.parse_formula( mol )    # Check\n",
    "print(\"\"\"\n",
    "Mol: {0}\n",
    "Formula: {1}\n",
    "Monoisotopic mass: {2:.6f}\n",
    "Average mass: {3:.3f}\n",
    "\"\"\".format(mol, form, form.monoisotop(), form.average()))"
   ]
  },
  {
   "cell_type": "markdown",
   "metadata": {},
   "source": [
    "## Handling proteins\n"
   ]
  },
  {
   "cell_type": "code",
   "execution_count": 3,
   "metadata": {
    "ExecuteTime": {
     "end_time": "2021-07-23T15:36:30.420968Z",
     "start_time": "2021-07-23T15:36:29.763482Z"
    }
   },
   "outputs": [
    {
     "name": "stdout",
     "output_type": "stream",
     "text": [
      "Ubiquitin: MQIFVKTLTGKTITLEVEPSDTIENVKAKIQDKEGIPPDQQRLIFAGKQLEDGRTLSDYNIQKESTLHLVLRLRGG\n",
      "parsed as: C_378 H_629 N_105 O_118 S\n",
      "average mass: 8564.751  monoisotopic mass: 8559.617\n",
      "Simplified Isotopic pattern:\n",
      " 8559.616712  4.6418133212\n",
      "8560.619587  21.3390178771\n",
      "8561.622386  50.2763050863\n",
      "8562.625120  80.8019404386\n",
      "8563.627798  99.5003304976\n",
      "8564.630429  100.0000000000\n",
      "8565.633019  85.3378874368\n",
      "8566.635573  63.5338398123\n",
      "8567.638099  42.0835916521\n",
      "8568.640599  25.1717965874\n",
      "8569.643077  13.7546767329\n",
      "8570.645538  6.9304852952\n",
      "8571.647983  3.2446107424\n",
      "8572.650414  1.4203644179\n",
      "8573.652835  0.5845106342\n",
      "8574.655247  0.2271442507\n",
      "8575.657650  0.0836708516\n",
      "8576.660042  0.0293037994\n",
      "8577.662414  0.0097758752\n",
      "8578.664740  0.0031074821\n",
      "8579.667039  0.0009428348\n",
      "8580.669258  0.0002723447\n",
      " \n",
      "\n"
     ]
    },
    {
     "data": {
      "text/plain": [
       "Text(0.5, 1.0, 'Ubiquitine 6+  RP=70k')"
      ]
     },
     "execution_count": 3,
     "metadata": {},
     "output_type": "execute_result"
    },
    {
     "data": {
      "image/png": "[encoded data removed]",
      "text/plain": [
       "<Figure size 432x288 with 1 Axes>"
      ]
     },
     "metadata": {
      "needs_background": "light"
     },
     "output_type": "display_data"
    }
   ],
   "source": [
    "ubi = \"MQIFVKTLTGKTITLEVEPSDTIENVKAKIQDKEGIPPDQQRLIFAGKQLEDGRTLSDYNIQKESTLHLVLRLRGG\" # ubiquitine\n",
    "form = iso.parse_peptide(ubi)\n",
    "print(\"Ubiquitin:\", ubi)\n",
    "print(\"parsed as:\",form)\n",
    "print (\"average mass: %.3f  monoisotopic mass: %.3f\"%(form.average(), form.monoisotop()))\n",
    "D = form.distribution()\n",
    "print (\"Simplified Isotopic pattern:\\n\",D,\"\\n\")\n",
    "# draw at Resolving Power = 70k\n",
    "D.draw(charge=6, RP=70000)\n",
    "# draw at very low res\n",
    "D.draw_lowres(charge=6)\n",
    "plt.title(\"Ubiquitine 6+  RP=70k\");\n"
   ]
  },
  {
   "cell_type": "markdown",
   "metadata": {},
   "source": [
    "## molecular arithmetics\n"
   ]
  },
  {
   "cell_type": "code",
   "execution_count": 4,
   "metadata": {
    "ExecuteTime": {
     "end_time": "2021-07-23T15:36:30.432338Z",
     "start_time": "2021-07-23T15:36:30.423027Z"
    }
   },
   "outputs": [
    {
     "name": "stdout",
     "output_type": "stream",
     "text": [
      "peptide P1: CCCC C_12 H_22 N_4 O_5 S_4\n",
      "peptide P2: VVAVG C_20 H_37 N_5 O_6\n",
      "ligation P2-P1-P2 - 2 H2O: C_52 H_92 N_14 O_15 S_4\n",
      "monoisotopic masses P1: 430.047  P2: 443.274  ligation:: 1280.575\n"
     ]
    }
   ],
   "source": [
    "form1 = iso.parse_peptide(\"CCCC\")\n",
    "form2 = iso.parse_peptide(\"VVAVG\")\n",
    "print(\"peptide P1: CCCC\", form1)\n",
    "print(\"peptide P2: VVAVG\", form2)\n",
    "# you can do formula arithmetics\n",
    "somme = form1 + 2*form2 - 2*iso.parse_formula(\"H2O\")\n",
    "print(\"ligation P2-P1-P2 - 2 H2O:\", somme)\n",
    "print (\"monoisotopic masses P1: %.3f  P2: %.3f  ligation:: %.3f\"%(form1.monoisotop(), form2.monoisotop(), somme.monoisotop()))\n"
   ]
  },
  {
   "cell_type": "markdown",
   "metadata": {},
   "source": [
    "##     Not only organic chemistry !\n"
   ]
  },
  {
   "cell_type": "code",
   "execution_count": 5,
   "metadata": {
    "ExecuteTime": {
     "end_time": "2021-07-23T15:36:30.635603Z",
     "start_time": "2021-07-23T15:36:30.434271Z"
    }
   },
   "outputs": [
    {
     "name": "stdout",
     "output_type": "stream",
     "text": [
      "Isotopic distribution for Palladium:\n",
      "101.905609  3.7321624588\n",
      "103.904036  40.7610684230\n",
      "104.905085  81.7050859861\n",
      "105.903486  100.0000000000\n",
      "107.903892  96.8166849616\n",
      "109.905153  42.8832784486\n",
      "\n",
      "monoisotopic mass of atoms is defined as the most naturally abundant, hence ¹⁰⁶Pd here\n",
      "\n"
     ]
    },
    {
     "data": {
      "image/png": "[encoded data removed]",
      "text/plain": [
       "<Figure size 432x288 with 1 Axes>"
      ]
     },
     "metadata": {
      "needs_background": "light"
     },
     "output_type": "display_data"
    }
   ],
   "source": [
    "print(\"Isotopic distribution for Palladium:\")\n",
    "print( iso.parse_formula('Pd').distribution())\n",
    "alloy = iso.parse(\"Pd\")\n",
    "alloy.distribution().bar(label=\"Pd\")\n",
    "plt.legend()\n",
    "plt.xlim(xmin=100)\n",
    "print(\"monoisotopic mass of atoms is defined as the most naturally abundant, hence ¹⁰⁶Pd here\\n\")\n"
   ]
  },
  {
   "cell_type": "code",
   "execution_count": 6,
   "metadata": {
    "ExecuteTime": {
     "end_time": "2021-07-23T15:36:31.378344Z",
     "start_time": "2021-07-23T15:36:30.636928Z"
    }
   },
   "outputs": [
    {
     "name": "stdout",
     "output_type": "stream",
     "text": [
      "Palladium alloy: Au2 Ca10 Ga10 Pd76\n",
      "parsed formula Au_2 Ca_10 Ga_10 Pd_76\n",
      "average mass: 9579.509  monoisotopic mass: 9531.480\n"
     ]
    },
    {
     "data": {
      "image/png": "[encoded data removed]",
      "text/plain": [
       "<Figure size 864x216 with 1 Axes>"
      ]
     },
     "metadata": {
      "needs_background": "light"
     },
     "output_type": "display_data"
    }
   ],
   "source": [
    "Pdalloy = \"Au2 Ca10 Ga10 Pd76\"\n",
    "print(\"Palladium alloy:\", Pdalloy)\n",
    "alloy = iso.parse(Pdalloy)     # is a short cut for either parse_formula or parse_peptide\n",
    "print(\"parsed formula\",alloy)\n",
    "print (\"average mass: %.3f  monoisotopic mass: %.3f\"%(alloy.average(), alloy.monoisotop()))\n",
    "plt.figure(figsize=(12,3))\n",
    "alloy.distribution().bar()"
   ]
  },
  {
   "cell_type": "markdown",
   "metadata": {},
   "source": [
    "## fine isotopic pattern\n",
    "test distribution on insuline covalent dimer\n",
    "\n",
    "*based on the excellent neutronstar program  from https://bitbucket.org/orserang/neutronstar.git* "
   ]
  },
  {
   "cell_type": "code",
   "execution_count": 7,
   "metadata": {
    "ExecuteTime": {
     "end_time": "2021-07-23T15:36:31.382566Z",
     "start_time": "2021-07-23T15:36:31.380015Z"
    }
   },
   "outputs": [],
   "source": [
    "# NS contains the location of the neutronstar binary\n",
    "# should be defined in the configuration part of the code, but can be given on the fly\n",
    "iso.NS = \"./neutronstar/src/neutronstar\""
   ]
  },
  {
   "cell_type": "code",
   "execution_count": 8,
   "metadata": {
    "ExecuteTime": {
     "end_time": "2021-07-23T15:36:41.715879Z",
     "start_time": "2021-07-23T15:36:31.386166Z"
    }
   },
   "outputs": [
    {
     "name": "stdout",
     "output_type": "stream",
     "text": [
      "try zooming on peaks\n"
     ]
    },
    {
     "data": {
      "image/png": "[encoded data removed]",
      "text/plain": [
       "<Figure size 864x216 with 1 Axes>"
      ]
     },
     "metadata": {
      "needs_background": "light"
     },
     "output_type": "display_data"
    },
    {
     "data": {
      "image/png": "[encoded data removed]",
      "text/plain": [
       "<Figure size 864x216 with 4 Axes>"
      ]
     },
     "metadata": {
      "needs_background": "light"
     },
     "output_type": "display_data"
    }
   ],
   "source": [
    "cc = iso.parse_peptide(\"GIVEQCCASVCSLYQLENYCN\")\n",
    "cd = iso.parse_peptide(\"FVNQHLCGSHLVEALYLVCGERGFFYTPKA\")\n",
    "\n",
    "insuline = cc + cd - iso.parse_formula(\"H6\")    # remove 6 H for 3 disulfides\n",
    "\n",
    "D1 = insuline.distribution()\n",
    "try:\n",
    "    DD1 = iso.fineisotopicdistrib(insuline)\n",
    "    ok = True\n",
    "except:\n",
    "    print(\"neutronstar utilities is not installed - check instructions\")\n",
    "    ok = False\n",
    "\n",
    "if ok:\n",
    "    # computing with neutronstar is very fast - drawing at high RP is slow !\n",
    "    plt.figure(1,figsize=(12,3))\n",
    "    D1.draw(RP=1E6, color='b', label=\"simplified pattern - RP=1E6\")\n",
    "    DD1.draw(RP=1E6, color='r', label=\"fine pattern - RP=1E6\")\n",
    "    DD1.bar(color='r')\n",
    "    plt.legend()\n",
    "    plt.title(\"comparing simple and detailled isotopic patterns for insuline\")\n",
    "    plt.figure(2,figsize=(12,3))\n",
    "    for i,ion in enumerate([0,1,4,8]):\n",
    "        plt.subplot(1,4,i+1)\n",
    "        D1.draw(RP=1E6, color='b', label=\"ion %d\"%ion)\n",
    "        DD1.draw(RP=1E6, color='r')\n",
    "        DD1.bar(color='r')\n",
    "        plt.legend()\n",
    "        plt.xlim(xmin=D1.distrib[ion].mass-0.03, xmax=D1.distrib[ion].mass+0.03)\n",
    "    print(\"try zooming on peaks\")\n",
    "\n"
   ]
  },
  {
   "cell_type": "markdown",
   "metadata": {},
   "source": [
    "## PTM & fragmentation peptides"
   ]
  },
  {
   "cell_type": "code",
   "execution_count": 9,
   "metadata": {
    "ExecuteTime": {
     "end_time": "2021-07-23T15:36:41.724239Z",
     "start_time": "2021-07-23T15:36:41.717763Z"
    }
   },
   "outputs": [
    {
     "name": "stdout",
     "output_type": "stream",
     "text": [
      "a * indicates a phosphorylation, there are other PTM\n",
      "here on T12  -  see https://pubmed.ncbi.nlm.nih.gov/33022275/ \n",
      " MQIFVKTLTGKT*ITLEVEPSDTIENVKAKIQDKEGIPPDQQRLIFAGKQLEDGRTLSDYNIQKESTLHLVLRLRGG\n",
      "Average masses: native: 8564.75,  phosphorylated: 8644.73\n",
      "difference: 79.98\n"
     ]
    }
   ],
   "source": [
    "# let's phosphorylate Ubiquitine on Threonin 12   \n",
    "phosprot = ubi[:12]+\"*\"+ubi[12:]\n",
    "U = iso.parse(ubi)\n",
    "P = iso.parse(phosprot)\n",
    "print(\"\"\"a * indicates a phosphorylation, there are other PTM\n",
    "here on T12  -  see https://pubmed.ncbi.nlm.nih.gov/33022275/ \n",
    "\"\"\",phosprot)\n",
    "print(\"Average masses: native: %.2f,  phosphorylated: %.2f\"%(U.average(), P.average()))\n",
    "print(\"difference: %.2f\"%(P.average()-U.average()))"
   ]
  },
  {
   "cell_type": "code",
   "execution_count": 10,
   "metadata": {
    "ExecuteTime": {
     "end_time": "2021-07-23T15:36:41.733638Z",
     "start_time": "2021-07-23T15:36:41.725938Z"
    }
   },
   "outputs": [
    {
     "name": "stdout",
     "output_type": "stream",
     "text": [
      " tryptic peptide: MQIFVKTLTGKT*ITLEVEPSDTIENVKAKIQDKEGIPPDQQR\n",
      " peptide b11  MQIFVKTLTGK                 monoisotopic:  1247.71858991597\n",
      " peptide y32 T*ITLEVEPSDTIENVKAKIQDKEGIPPDQQR          monoisotopic:  3571.7896622554294\n"
     ]
    }
   ],
   "source": [
    "# and simulate a tryptic cut at R42\n",
    "pep = phosprot[:43]\n",
    "L = len(pep)\n",
    "# generate a b/y fragmentation at position 11\n",
    "cut = 11\n",
    "pep_b = pep[:cut]\n",
    "pep_y = pep[cut:]\n",
    "print(\" tryptic peptide:\",pep)\n",
    "print(\" peptide b11 \", pep_b, \"                monoisotopic: \",iso.parse_peptide(pep_b, ends='b').monoisotop())\n",
    "print(\" peptide y32\", pep_y, \"         monoisotopic: \",iso.parse_peptide(pep_y, starts='y').monoisotop())\n"
   ]
  },
  {
   "cell_type": "markdown",
   "metadata": {},
   "source": [
    "## Compare ubiquitine native, and 80% ¹⁵N enriched \n"
   ]
  },
  {
   "cell_type": "code",
   "execution_count": 11,
   "metadata": {
    "ExecuteTime": {
     "end_time": "2021-07-23T15:36:42.235169Z",
     "start_time": "2021-07-23T15:36:41.735615Z"
    }
   },
   "outputs": [
    {
     "name": "stdout",
     "output_type": "stream",
     "text": [
      "Ubiquitin: MQIFVKTLTGKTITLEVEPSDTIENVKAKIQDKEGIPPDQQRLIFAGKQLEDGRTLSDYNIQKESTLHLVLRLRGG\n",
      "C_378 H_629 N_105 O_118 S\n",
      "     Isotope(element=7, isotop=14, mass=14.0030740048, abund=0.19999999999999996)\n",
      "     Isotope(element=7, isotop=15, mass=15.0001088982, abund=0.8)\n",
      "mass difference = 83.37\n"
     ]
    },
    {
     "data": {
      "image/png": "[encoded data removed]",
      "text/plain": [
       "<Figure size 432x288 with 1 Axes>"
      ]
     },
     "metadata": {
      "needs_background": "light"
     },
     "output_type": "display_data"
    }
   ],
   "source": [
    "iso.initialize()\n",
    "form = iso.parse_peptide(ubi)\n",
    "print(\"Ubiquitin:\", ubi)\n",
    "print(form)\n",
    "# native\n",
    "Dn = form.distribution()\n",
    "aven = form.average()\n",
    "\n",
    "# enriched\n",
    "iso.enrich(element=\"N\",isotop=15, ratio=0.8) #  indicates a 80% 15N enrichment\n",
    "De = form.distribution()\n",
    "avee = form.average()\n",
    "\n",
    "fig, ax = plt.subplots()\n",
    "mn,yn = Dn.spectrify()\n",
    "ax.plot(mn,yn, label=\"native\")\n",
    "me, ye = De.spectrify()\n",
    "ax.plot(me, ye, label=\"enriched\")\n",
    "plt.legend()\n",
    "print(\"mass difference = %.2f\"%(avee-aven))\n",
    "\n",
    "# enrich() modifies the internal database - so to undo, use iso.initialize() !\n",
    "iso.initialize()"
   ]
  },
  {
   "cell_type": "code",
   "execution_count": null,
   "metadata": {
    "ExecuteTime": {
     "end_time": "2021-07-23T15:32:23.615281Z",
     "start_time": "2021-07-23T15:32:23.609690Z"
    }
   },
   "outputs": [],
   "source": []
  }
 ],
 "metadata": {
  "kernelspec": {
   "display_name": "Python 3",
   "language": "python",
   "name": "python3"
  },
  "language_info": {
   "codemirror_mode": {
    "name": "ipython",
    "version": 3
   },
   "file_extension": ".py",
   "mimetype": "text/x-python",
   "name": "python",
   "nbconvert_exporter": "python",
   "pygments_lexer": "ipython3",
   "version": "3.8.5"
  },
  "varInspector": {
   "cols": {
    "lenName": 16,
    "lenType": 16,
    "lenVar": 40
   },
   "kernels_config": {
    "python": {
     "delete_cmd_postfix": "",
     "delete_cmd_prefix": "del ",
     "library": "var_list.py",
     "varRefreshCmd": "print(var_dic_list())"
    },
    "r": {
     "delete_cmd_postfix": ") ",
     "delete_cmd_prefix": "rm(",
     "library": "var_list.r",
     "varRefreshCmd": "cat(var_dic_list()) "
    }
   },
   "types_to_exclude": [
    "module",
    "function",
    "builtin_function_or_method",
    "instance",
    "_Feature"
   ],
   "window_display": false
  }
 },
 "nbformat": 4,
 "nbformat_minor": 4
}
